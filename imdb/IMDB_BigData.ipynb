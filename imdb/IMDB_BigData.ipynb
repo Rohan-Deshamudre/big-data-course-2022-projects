{
 "cells": [
  {
   "cell_type": "code",
   "execution_count": 2,
   "metadata": {},
   "outputs": [],
   "source": [
    "import pandas as pd\n",
    "import numpy as np"
   ]
  },
  {
   "cell_type": "code",
   "execution_count": 56,
   "metadata": {},
   "outputs": [
    {
     "data": {
      "text/html": [
       "<div>\n",
       "<style scoped>\n",
       "    .dataframe tbody tr th:only-of-type {\n",
       "        vertical-align: middle;\n",
       "    }\n",
       "\n",
       "    .dataframe tbody tr th {\n",
       "        vertical-align: top;\n",
       "    }\n",
       "\n",
       "    .dataframe thead th {\n",
       "        text-align: right;\n",
       "    }\n",
       "</style>\n",
       "<table border=\"1\" class=\"dataframe\">\n",
       "  <thead>\n",
       "    <tr style=\"text-align: right;\">\n",
       "      <th></th>\n",
       "      <th>Unnamed: 0</th>\n",
       "      <th>tconst</th>\n",
       "      <th>primaryTitle</th>\n",
       "      <th>originalTitle</th>\n",
       "      <th>startYear</th>\n",
       "      <th>runtimeMinutes</th>\n",
       "      <th>numVotes</th>\n",
       "      <th>label</th>\n",
       "    </tr>\n",
       "  </thead>\n",
       "  <tbody>\n",
       "    <tr>\n",
       "      <th>0</th>\n",
       "      <td>4</td>\n",
       "      <td>tt0010600</td>\n",
       "      <td>The Doll</td>\n",
       "      <td>Die Puppe</td>\n",
       "      <td>1919</td>\n",
       "      <td>66</td>\n",
       "      <td>1898.0</td>\n",
       "      <td>True</td>\n",
       "    </tr>\n",
       "    <tr>\n",
       "      <th>1</th>\n",
       "      <td>7</td>\n",
       "      <td>tt0011841</td>\n",
       "      <td>Way Down East</td>\n",
       "      <td>Way Down East</td>\n",
       "      <td>1920</td>\n",
       "      <td>145</td>\n",
       "      <td>5376.0</td>\n",
       "      <td>True</td>\n",
       "    </tr>\n",
       "    <tr>\n",
       "      <th>2</th>\n",
       "      <td>9</td>\n",
       "      <td>tt0012494</td>\n",
       "      <td>Déstiny</td>\n",
       "      <td>Der müde Tod</td>\n",
       "      <td>1921</td>\n",
       "      <td>97</td>\n",
       "      <td>5842.0</td>\n",
       "      <td>True</td>\n",
       "    </tr>\n",
       "    <tr>\n",
       "      <th>3</th>\n",
       "      <td>25</td>\n",
       "      <td>tt0015163</td>\n",
       "      <td>The Navigator</td>\n",
       "      <td>The Navigator</td>\n",
       "      <td>1924</td>\n",
       "      <td>59</td>\n",
       "      <td>9652.0</td>\n",
       "      <td>True</td>\n",
       "    </tr>\n",
       "    <tr>\n",
       "      <th>4</th>\n",
       "      <td>38</td>\n",
       "      <td>tt0016220</td>\n",
       "      <td>The Phantom of the Opera</td>\n",
       "      <td>The Phantom of the Opera</td>\n",
       "      <td>1925</td>\n",
       "      <td>93</td>\n",
       "      <td>17887.0</td>\n",
       "      <td>True</td>\n",
       "    </tr>\n",
       "    <tr>\n",
       "      <th>...</th>\n",
       "      <td>...</td>\n",
       "      <td>...</td>\n",
       "      <td>...</td>\n",
       "      <td>...</td>\n",
       "      <td>...</td>\n",
       "      <td>...</td>\n",
       "      <td>...</td>\n",
       "      <td>...</td>\n",
       "    </tr>\n",
       "    <tr>\n",
       "      <th>988</th>\n",
       "      <td>9966</td>\n",
       "      <td>tt9625664</td>\n",
       "      <td>Trauma Center</td>\n",
       "      <td>NaN</td>\n",
       "      <td>2019</td>\n",
       "      <td>87</td>\n",
       "      <td>12951.0</td>\n",
       "      <td>False</td>\n",
       "    </tr>\n",
       "    <tr>\n",
       "      <th>989</th>\n",
       "      <td>9981</td>\n",
       "      <td>tt9741310</td>\n",
       "      <td>Slaxx</td>\n",
       "      <td>Slaxx</td>\n",
       "      <td>2020</td>\n",
       "      <td>77</td>\n",
       "      <td>2464.0</td>\n",
       "      <td>False</td>\n",
       "    </tr>\n",
       "    <tr>\n",
       "      <th>990</th>\n",
       "      <td>9982</td>\n",
       "      <td>tt9742392</td>\n",
       "      <td>Kindred</td>\n",
       "      <td>Kindred</td>\n",
       "      <td>2020</td>\n",
       "      <td>101</td>\n",
       "      <td>1719.0</td>\n",
       "      <td>False</td>\n",
       "    </tr>\n",
       "    <tr>\n",
       "      <th>991</th>\n",
       "      <td>9996</td>\n",
       "      <td>tt9850386</td>\n",
       "      <td>The Bee Gees: How Can You Mend a Broken Heart</td>\n",
       "      <td>NaN</td>\n",
       "      <td>2020</td>\n",
       "      <td>111</td>\n",
       "      <td>4144.0</td>\n",
       "      <td>True</td>\n",
       "    </tr>\n",
       "    <tr>\n",
       "      <th>992</th>\n",
       "      <td>9999</td>\n",
       "      <td>tt9911196</td>\n",
       "      <td>The Marriage Escape</td>\n",
       "      <td>De beentjes van Sint-Hildegard</td>\n",
       "      <td>2020</td>\n",
       "      <td>103</td>\n",
       "      <td>3242.0</td>\n",
       "      <td>True</td>\n",
       "    </tr>\n",
       "  </tbody>\n",
       "</table>\n",
       "<p>7959 rows × 8 columns</p>\n",
       "</div>"
      ],
      "text/plain": [
       "     Unnamed: 0     tconst                                   primaryTitle  \\\n",
       "0             4  tt0010600                                       The Doll   \n",
       "1             7  tt0011841                                  Way Down East   \n",
       "2             9  tt0012494                                        Déstiny   \n",
       "3            25  tt0015163                                  The Navigator   \n",
       "4            38  tt0016220                       The Phantom of the Opera   \n",
       "..          ...        ...                                            ...   \n",
       "988        9966  tt9625664                                  Trauma Center   \n",
       "989        9981  tt9741310                                          Slaxx   \n",
       "990        9982  tt9742392                                        Kindred   \n",
       "991        9996  tt9850386  The Bee Gees: How Can You Mend a Broken Heart   \n",
       "992        9999  tt9911196                            The Marriage Escape   \n",
       "\n",
       "                      originalTitle startYear runtimeMinutes  numVotes  label  \n",
       "0                         Die Puppe      1919             66    1898.0   True  \n",
       "1                     Way Down East      1920            145    5376.0   True  \n",
       "2                      Der müde Tod      1921             97    5842.0   True  \n",
       "3                     The Navigator      1924             59    9652.0   True  \n",
       "4          The Phantom of the Opera      1925             93   17887.0   True  \n",
       "..                              ...       ...            ...       ...    ...  \n",
       "988                             NaN      2019             87   12951.0  False  \n",
       "989                           Slaxx      2020             77    2464.0  False  \n",
       "990                         Kindred      2020            101    1719.0  False  \n",
       "991                             NaN      2020            111    4144.0   True  \n",
       "992  De beentjes van Sint-Hildegard      2020            103    3242.0   True  \n",
       "\n",
       "[7959 rows x 8 columns]"
      ]
     },
     "execution_count": 56,
     "metadata": {},
     "output_type": "execute_result"
    },
    {
     "name": "stderr",
     "output_type": "stream",
     "text": [
      "ERROR:root:Exception while sending command.\n",
      "Traceback (most recent call last):\n",
      "  File \"/Users/valentinnegru/opt/anaconda3/lib/python3.9/site-packages/py4j/clientserver.py\", line 511, in send_command\n",
      "    answer = smart_decode(self.stream.readline()[:-1])\n",
      "  File \"/Users/valentinnegru/opt/anaconda3/lib/python3.9/socket.py\", line 704, in readinto\n",
      "    return self._sock.recv_into(b)\n",
      "ConnectionResetError: [Errno 54] Connection reset by peer\n",
      "\n",
      "During handling of the above exception, another exception occurred:\n",
      "\n",
      "Traceback (most recent call last):\n",
      "  File \"/Users/valentinnegru/opt/anaconda3/lib/python3.9/site-packages/py4j/java_gateway.py\", line 1038, in send_command\n",
      "    response = connection.send_command(command)\n",
      "  File \"/Users/valentinnegru/opt/anaconda3/lib/python3.9/site-packages/py4j/clientserver.py\", line 539, in send_command\n",
      "    raise Py4JNetworkError(\n",
      "py4j.protocol.Py4JNetworkError: Error while sending or receiving\n"
     ]
    }
   ],
   "source": [
    "training_set_csv = ['train-2.csv', 'train-3.csv', 'train-4.csv', 'train-5.csv', 'train-6.csv', 'train-7.csv', 'train-8.csv']\n",
    "\n",
    "training_set = pd.read_csv('train-1.csv')\n",
    "for csv in training_set_csv:\n",
    "    file = pd.read_csv(csv) \n",
    "    training_set = pd.concat([training_set, file], axis=0)\n",
    "\n",
    "\n",
    "training_set['startYear'] = np.where(training_set['startYear'] == '\\\\N', training_set['endYear'], training_set['startYear'])\n",
    "training_set = training_set.drop('endYear', axis=1)\n",
    "training_set['runtimeMinutes'] = np.where(training_set['runtimeMinutes'] == '\\\\N', '0', training_set['runtimeMinutes'])\n",
    "training_set"
   ]
  },
  {
   "cell_type": "code",
   "execution_count": 57,
   "metadata": {},
   "outputs": [],
   "source": [
    "training_set['runtimeMinutes'] = training_set['runtimeMinutes'].astype(float)"
   ]
  },
  {
   "cell_type": "code",
   "execution_count": 59,
   "metadata": {},
   "outputs": [
    {
     "data": {
      "text/html": [
       "<div>\n",
       "<style scoped>\n",
       "    .dataframe tbody tr th:only-of-type {\n",
       "        vertical-align: middle;\n",
       "    }\n",
       "\n",
       "    .dataframe tbody tr th {\n",
       "        vertical-align: top;\n",
       "    }\n",
       "\n",
       "    .dataframe thead th {\n",
       "        text-align: right;\n",
       "    }\n",
       "</style>\n",
       "<table border=\"1\" class=\"dataframe\">\n",
       "  <thead>\n",
       "    <tr style=\"text-align: right;\">\n",
       "      <th></th>\n",
       "      <th>Unnamed: 0</th>\n",
       "      <th>tconst</th>\n",
       "      <th>primaryTitle</th>\n",
       "      <th>originalTitle</th>\n",
       "      <th>startYear</th>\n",
       "      <th>runtimeMinutes</th>\n",
       "      <th>numVotes</th>\n",
       "      <th>label</th>\n",
       "    </tr>\n",
       "  </thead>\n",
       "  <tbody>\n",
       "    <tr>\n",
       "      <th>0</th>\n",
       "      <td>4</td>\n",
       "      <td>tt0010600</td>\n",
       "      <td>The Doll</td>\n",
       "      <td>Die Puppe</td>\n",
       "      <td>1919</td>\n",
       "      <td>66.0</td>\n",
       "      <td>1898.0</td>\n",
       "      <td>True</td>\n",
       "    </tr>\n",
       "    <tr>\n",
       "      <th>1</th>\n",
       "      <td>7</td>\n",
       "      <td>tt0011841</td>\n",
       "      <td>Way Down East</td>\n",
       "      <td>Way Down East</td>\n",
       "      <td>1920</td>\n",
       "      <td>145.0</td>\n",
       "      <td>5376.0</td>\n",
       "      <td>True</td>\n",
       "    </tr>\n",
       "    <tr>\n",
       "      <th>2</th>\n",
       "      <td>9</td>\n",
       "      <td>tt0012494</td>\n",
       "      <td>Déstiny</td>\n",
       "      <td>Der müde Tod</td>\n",
       "      <td>1921</td>\n",
       "      <td>97.0</td>\n",
       "      <td>5842.0</td>\n",
       "      <td>True</td>\n",
       "    </tr>\n",
       "    <tr>\n",
       "      <th>3</th>\n",
       "      <td>25</td>\n",
       "      <td>tt0015163</td>\n",
       "      <td>The Navigator</td>\n",
       "      <td>The Navigator</td>\n",
       "      <td>1924</td>\n",
       "      <td>59.0</td>\n",
       "      <td>9652.0</td>\n",
       "      <td>True</td>\n",
       "    </tr>\n",
       "    <tr>\n",
       "      <th>4</th>\n",
       "      <td>38</td>\n",
       "      <td>tt0016220</td>\n",
       "      <td>The Phantom of the Opera</td>\n",
       "      <td>The Phantom of the Opera</td>\n",
       "      <td>1925</td>\n",
       "      <td>93.0</td>\n",
       "      <td>17887.0</td>\n",
       "      <td>True</td>\n",
       "    </tr>\n",
       "    <tr>\n",
       "      <th>...</th>\n",
       "      <td>...</td>\n",
       "      <td>...</td>\n",
       "      <td>...</td>\n",
       "      <td>...</td>\n",
       "      <td>...</td>\n",
       "      <td>...</td>\n",
       "      <td>...</td>\n",
       "      <td>...</td>\n",
       "    </tr>\n",
       "    <tr>\n",
       "      <th>988</th>\n",
       "      <td>9966</td>\n",
       "      <td>tt9625664</td>\n",
       "      <td>Trauma Center</td>\n",
       "      <td>NaN</td>\n",
       "      <td>2019</td>\n",
       "      <td>87.0</td>\n",
       "      <td>12951.0</td>\n",
       "      <td>False</td>\n",
       "    </tr>\n",
       "    <tr>\n",
       "      <th>989</th>\n",
       "      <td>9981</td>\n",
       "      <td>tt9741310</td>\n",
       "      <td>Slaxx</td>\n",
       "      <td>Slaxx</td>\n",
       "      <td>2020</td>\n",
       "      <td>77.0</td>\n",
       "      <td>2464.0</td>\n",
       "      <td>False</td>\n",
       "    </tr>\n",
       "    <tr>\n",
       "      <th>990</th>\n",
       "      <td>9982</td>\n",
       "      <td>tt9742392</td>\n",
       "      <td>Kindred</td>\n",
       "      <td>Kindred</td>\n",
       "      <td>2020</td>\n",
       "      <td>101.0</td>\n",
       "      <td>1719.0</td>\n",
       "      <td>False</td>\n",
       "    </tr>\n",
       "    <tr>\n",
       "      <th>991</th>\n",
       "      <td>9996</td>\n",
       "      <td>tt9850386</td>\n",
       "      <td>The Bee Gees: How Can You Mend a Broken Heart</td>\n",
       "      <td>NaN</td>\n",
       "      <td>2020</td>\n",
       "      <td>111.0</td>\n",
       "      <td>4144.0</td>\n",
       "      <td>True</td>\n",
       "    </tr>\n",
       "    <tr>\n",
       "      <th>992</th>\n",
       "      <td>9999</td>\n",
       "      <td>tt9911196</td>\n",
       "      <td>The Marriage Escape</td>\n",
       "      <td>De beentjes van Sint-Hildegard</td>\n",
       "      <td>2020</td>\n",
       "      <td>103.0</td>\n",
       "      <td>3242.0</td>\n",
       "      <td>True</td>\n",
       "    </tr>\n",
       "  </tbody>\n",
       "</table>\n",
       "<p>7959 rows × 8 columns</p>\n",
       "</div>"
      ],
      "text/plain": [
       "     Unnamed: 0     tconst                                   primaryTitle  \\\n",
       "0             4  tt0010600                                       The Doll   \n",
       "1             7  tt0011841                                  Way Down East   \n",
       "2             9  tt0012494                                        Déstiny   \n",
       "3            25  tt0015163                                  The Navigator   \n",
       "4            38  tt0016220                       The Phantom of the Opera   \n",
       "..          ...        ...                                            ...   \n",
       "988        9966  tt9625664                                  Trauma Center   \n",
       "989        9981  tt9741310                                          Slaxx   \n",
       "990        9982  tt9742392                                        Kindred   \n",
       "991        9996  tt9850386  The Bee Gees: How Can You Mend a Broken Heart   \n",
       "992        9999  tt9911196                            The Marriage Escape   \n",
       "\n",
       "                      originalTitle startYear  runtimeMinutes  numVotes  label  \n",
       "0                         Die Puppe      1919            66.0    1898.0   True  \n",
       "1                     Way Down East      1920           145.0    5376.0   True  \n",
       "2                      Der müde Tod      1921            97.0    5842.0   True  \n",
       "3                     The Navigator      1924            59.0    9652.0   True  \n",
       "4          The Phantom of the Opera      1925            93.0   17887.0   True  \n",
       "..                              ...       ...             ...       ...    ...  \n",
       "988                             NaN      2019            87.0   12951.0  False  \n",
       "989                           Slaxx      2020            77.0    2464.0  False  \n",
       "990                         Kindred      2020           101.0    1719.0  False  \n",
       "991                             NaN      2020           111.0    4144.0   True  \n",
       "992  De beentjes van Sint-Hildegard      2020           103.0    3242.0   True  \n",
       "\n",
       "[7959 rows x 8 columns]"
      ]
     },
     "execution_count": 59,
     "metadata": {},
     "output_type": "execute_result"
    }
   ],
   "source": [
    "training_set"
   ]
  },
  {
   "cell_type": "code",
   "execution_count": 60,
   "metadata": {},
   "outputs": [],
   "source": [
    "corr = training_set['runtimeMinutes'].corr(training_set['numVotes'])"
   ]
  },
  {
   "cell_type": "code",
   "execution_count": 61,
   "metadata": {},
   "outputs": [
    {
     "name": "stdout",
     "output_type": "stream",
     "text": [
      "0.16941395959686534\n"
     ]
    }
   ],
   "source": [
    "print(corr)"
   ]
  },
  {
   "cell_type": "code",
   "execution_count": 62,
   "metadata": {},
   "outputs": [],
   "source": [
    "correlations = training_set.corr()['label'].abs().sort_values(ascending=False)"
   ]
  },
  {
   "cell_type": "code",
   "execution_count": 63,
   "metadata": {},
   "outputs": [
    {
     "name": "stdout",
     "output_type": "stream",
     "text": [
      "label             1.000000\n",
      "runtimeMinutes    0.299443\n",
      "Unnamed: 0        0.202384\n",
      "numVotes          0.168973\n",
      "Name: label, dtype: float64\n"
     ]
    }
   ],
   "source": [
    "print(correlations)"
   ]
  },
  {
   "cell_type": "code",
   "execution_count": 64,
   "metadata": {},
   "outputs": [],
   "source": [
    "training_set['Unnamed: 0'] = training_set.index"
   ]
  },
  {
   "cell_type": "code",
   "execution_count": 65,
   "metadata": {},
   "outputs": [
    {
     "data": {
      "text/html": [
       "<div>\n",
       "<style scoped>\n",
       "    .dataframe tbody tr th:only-of-type {\n",
       "        vertical-align: middle;\n",
       "    }\n",
       "\n",
       "    .dataframe tbody tr th {\n",
       "        vertical-align: top;\n",
       "    }\n",
       "\n",
       "    .dataframe thead th {\n",
       "        text-align: right;\n",
       "    }\n",
       "</style>\n",
       "<table border=\"1\" class=\"dataframe\">\n",
       "  <thead>\n",
       "    <tr style=\"text-align: right;\">\n",
       "      <th></th>\n",
       "      <th>Unnamed: 0</th>\n",
       "      <th>tconst</th>\n",
       "      <th>primaryTitle</th>\n",
       "      <th>originalTitle</th>\n",
       "      <th>startYear</th>\n",
       "      <th>runtimeMinutes</th>\n",
       "      <th>numVotes</th>\n",
       "      <th>label</th>\n",
       "    </tr>\n",
       "  </thead>\n",
       "  <tbody>\n",
       "    <tr>\n",
       "      <th>0</th>\n",
       "      <td>0</td>\n",
       "      <td>tt0010600</td>\n",
       "      <td>The Doll</td>\n",
       "      <td>Die Puppe</td>\n",
       "      <td>1919</td>\n",
       "      <td>66.0</td>\n",
       "      <td>1898.0</td>\n",
       "      <td>True</td>\n",
       "    </tr>\n",
       "    <tr>\n",
       "      <th>1</th>\n",
       "      <td>1</td>\n",
       "      <td>tt0011841</td>\n",
       "      <td>Way Down East</td>\n",
       "      <td>Way Down East</td>\n",
       "      <td>1920</td>\n",
       "      <td>145.0</td>\n",
       "      <td>5376.0</td>\n",
       "      <td>True</td>\n",
       "    </tr>\n",
       "    <tr>\n",
       "      <th>2</th>\n",
       "      <td>2</td>\n",
       "      <td>tt0012494</td>\n",
       "      <td>Déstiny</td>\n",
       "      <td>Der müde Tod</td>\n",
       "      <td>1921</td>\n",
       "      <td>97.0</td>\n",
       "      <td>5842.0</td>\n",
       "      <td>True</td>\n",
       "    </tr>\n",
       "    <tr>\n",
       "      <th>3</th>\n",
       "      <td>3</td>\n",
       "      <td>tt0015163</td>\n",
       "      <td>The Navigator</td>\n",
       "      <td>The Navigator</td>\n",
       "      <td>1924</td>\n",
       "      <td>59.0</td>\n",
       "      <td>9652.0</td>\n",
       "      <td>True</td>\n",
       "    </tr>\n",
       "    <tr>\n",
       "      <th>4</th>\n",
       "      <td>4</td>\n",
       "      <td>tt0016220</td>\n",
       "      <td>The Phantom of the Opera</td>\n",
       "      <td>The Phantom of the Opera</td>\n",
       "      <td>1925</td>\n",
       "      <td>93.0</td>\n",
       "      <td>17887.0</td>\n",
       "      <td>True</td>\n",
       "    </tr>\n",
       "    <tr>\n",
       "      <th>...</th>\n",
       "      <td>...</td>\n",
       "      <td>...</td>\n",
       "      <td>...</td>\n",
       "      <td>...</td>\n",
       "      <td>...</td>\n",
       "      <td>...</td>\n",
       "      <td>...</td>\n",
       "      <td>...</td>\n",
       "    </tr>\n",
       "    <tr>\n",
       "      <th>988</th>\n",
       "      <td>988</td>\n",
       "      <td>tt9625664</td>\n",
       "      <td>Trauma Center</td>\n",
       "      <td>NaN</td>\n",
       "      <td>2019</td>\n",
       "      <td>87.0</td>\n",
       "      <td>12951.0</td>\n",
       "      <td>False</td>\n",
       "    </tr>\n",
       "    <tr>\n",
       "      <th>989</th>\n",
       "      <td>989</td>\n",
       "      <td>tt9741310</td>\n",
       "      <td>Slaxx</td>\n",
       "      <td>Slaxx</td>\n",
       "      <td>2020</td>\n",
       "      <td>77.0</td>\n",
       "      <td>2464.0</td>\n",
       "      <td>False</td>\n",
       "    </tr>\n",
       "    <tr>\n",
       "      <th>990</th>\n",
       "      <td>990</td>\n",
       "      <td>tt9742392</td>\n",
       "      <td>Kindred</td>\n",
       "      <td>Kindred</td>\n",
       "      <td>2020</td>\n",
       "      <td>101.0</td>\n",
       "      <td>1719.0</td>\n",
       "      <td>False</td>\n",
       "    </tr>\n",
       "    <tr>\n",
       "      <th>991</th>\n",
       "      <td>991</td>\n",
       "      <td>tt9850386</td>\n",
       "      <td>The Bee Gees: How Can You Mend a Broken Heart</td>\n",
       "      <td>NaN</td>\n",
       "      <td>2020</td>\n",
       "      <td>111.0</td>\n",
       "      <td>4144.0</td>\n",
       "      <td>True</td>\n",
       "    </tr>\n",
       "    <tr>\n",
       "      <th>992</th>\n",
       "      <td>992</td>\n",
       "      <td>tt9911196</td>\n",
       "      <td>The Marriage Escape</td>\n",
       "      <td>De beentjes van Sint-Hildegard</td>\n",
       "      <td>2020</td>\n",
       "      <td>103.0</td>\n",
       "      <td>3242.0</td>\n",
       "      <td>True</td>\n",
       "    </tr>\n",
       "  </tbody>\n",
       "</table>\n",
       "<p>7959 rows × 8 columns</p>\n",
       "</div>"
      ],
      "text/plain": [
       "     Unnamed: 0     tconst                                   primaryTitle  \\\n",
       "0             0  tt0010600                                       The Doll   \n",
       "1             1  tt0011841                                  Way Down East   \n",
       "2             2  tt0012494                                        Déstiny   \n",
       "3             3  tt0015163                                  The Navigator   \n",
       "4             4  tt0016220                       The Phantom of the Opera   \n",
       "..          ...        ...                                            ...   \n",
       "988         988  tt9625664                                  Trauma Center   \n",
       "989         989  tt9741310                                          Slaxx   \n",
       "990         990  tt9742392                                        Kindred   \n",
       "991         991  tt9850386  The Bee Gees: How Can You Mend a Broken Heart   \n",
       "992         992  tt9911196                            The Marriage Escape   \n",
       "\n",
       "                      originalTitle startYear  runtimeMinutes  numVotes  label  \n",
       "0                         Die Puppe      1919            66.0    1898.0   True  \n",
       "1                     Way Down East      1920           145.0    5376.0   True  \n",
       "2                      Der müde Tod      1921            97.0    5842.0   True  \n",
       "3                     The Navigator      1924            59.0    9652.0   True  \n",
       "4          The Phantom of the Opera      1925            93.0   17887.0   True  \n",
       "..                              ...       ...             ...       ...    ...  \n",
       "988                             NaN      2019            87.0   12951.0  False  \n",
       "989                           Slaxx      2020            77.0    2464.0  False  \n",
       "990                         Kindred      2020           101.0    1719.0  False  \n",
       "991                             NaN      2020           111.0    4144.0   True  \n",
       "992  De beentjes van Sint-Hildegard      2020           103.0    3242.0   True  \n",
       "\n",
       "[7959 rows x 8 columns]"
      ]
     },
     "execution_count": 65,
     "metadata": {},
     "output_type": "execute_result"
    }
   ],
   "source": [
    "training_set"
   ]
  },
  {
   "cell_type": "code",
   "execution_count": 66,
   "metadata": {},
   "outputs": [
    {
     "name": "stdout",
     "output_type": "stream",
     "text": [
      "Unnamed: 0       -0.200263\n",
      "runtimeMinutes    0.299443\n",
      "numVotes          0.168973\n",
      "label             1.000000\n",
      "Name: label, dtype: float64\n"
     ]
    }
   ],
   "source": [
    "correlations = training_set.corr()['label']\n",
    "print(correlations)"
   ]
  },
  {
   "cell_type": "code",
   "execution_count": 67,
   "metadata": {},
   "outputs": [],
   "source": [
    "correlations = correlations[1:]\n",
    "correlations = correlations[:-1]"
   ]
  },
  {
   "cell_type": "code",
   "execution_count": 68,
   "metadata": {},
   "outputs": [
    {
     "name": "stdout",
     "output_type": "stream",
     "text": [
      "runtimeMinutes    0.299443\n",
      "numVotes          0.168973\n",
      "Name: label, dtype: float64\n"
     ]
    }
   ],
   "source": [
    "print(correlations)"
   ]
  },
  {
   "cell_type": "markdown",
   "metadata": {},
   "source": [
    "## Low-rated movies\n",
    "\n",
    "The following are the movies that were low-rated by users:"
   ]
  },
  {
   "cell_type": "code",
   "execution_count": 69,
   "metadata": {},
   "outputs": [
    {
     "data": {
      "text/html": [
       "<div>\n",
       "<style scoped>\n",
       "    .dataframe tbody tr th:only-of-type {\n",
       "        vertical-align: middle;\n",
       "    }\n",
       "\n",
       "    .dataframe tbody tr th {\n",
       "        vertical-align: top;\n",
       "    }\n",
       "\n",
       "    .dataframe thead th {\n",
       "        text-align: right;\n",
       "    }\n",
       "</style>\n",
       "<table border=\"1\" class=\"dataframe\">\n",
       "  <thead>\n",
       "    <tr style=\"text-align: right;\">\n",
       "      <th></th>\n",
       "      <th>Unnamed: 0</th>\n",
       "      <th>tconst</th>\n",
       "      <th>primaryTitle</th>\n",
       "      <th>originalTitle</th>\n",
       "      <th>startYear</th>\n",
       "      <th>runtimeMinutes</th>\n",
       "      <th>numVotes</th>\n",
       "      <th>label</th>\n",
       "    </tr>\n",
       "  </thead>\n",
       "  <tbody>\n",
       "    <tr>\n",
       "      <th>6</th>\n",
       "      <td>6</td>\n",
       "      <td>tt0021015</td>\n",
       "      <td>Juno and the Paycock</td>\n",
       "      <td>NaN</td>\n",
       "      <td>1929</td>\n",
       "      <td>85.0</td>\n",
       "      <td>2275.0</td>\n",
       "      <td>False</td>\n",
       "    </tr>\n",
       "    <tr>\n",
       "      <th>26</th>\n",
       "      <td>26</td>\n",
       "      <td>tt0035009</td>\n",
       "      <td>The Mad Monster</td>\n",
       "      <td>NaN</td>\n",
       "      <td>1942</td>\n",
       "      <td>77.0</td>\n",
       "      <td>1720.0</td>\n",
       "      <td>False</td>\n",
       "    </tr>\n",
       "    <tr>\n",
       "      <th>28</th>\n",
       "      <td>28</td>\n",
       "      <td>tt0036716</td>\n",
       "      <td>Cobra Woman</td>\n",
       "      <td>Cobra Woman</td>\n",
       "      <td>1944</td>\n",
       "      <td>71.0</td>\n",
       "      <td>1101.0</td>\n",
       "      <td>False</td>\n",
       "    </tr>\n",
       "    <tr>\n",
       "      <th>38</th>\n",
       "      <td>38</td>\n",
       "      <td>tt0040626</td>\n",
       "      <td>My Dear Secretary</td>\n",
       "      <td>My Dear Secretary</td>\n",
       "      <td>1948</td>\n",
       "      <td>94.0</td>\n",
       "      <td>NaN</td>\n",
       "      <td>False</td>\n",
       "    </tr>\n",
       "    <tr>\n",
       "      <th>56</th>\n",
       "      <td>56</td>\n",
       "      <td>tt0046248</td>\n",
       "      <td>Robot Monster</td>\n",
       "      <td>Robot Monster</td>\n",
       "      <td>1953</td>\n",
       "      <td>66.0</td>\n",
       "      <td>4924.0</td>\n",
       "      <td>False</td>\n",
       "    </tr>\n",
       "    <tr>\n",
       "      <th>...</th>\n",
       "      <td>...</td>\n",
       "      <td>...</td>\n",
       "      <td>...</td>\n",
       "      <td>...</td>\n",
       "      <td>...</td>\n",
       "      <td>...</td>\n",
       "      <td>...</td>\n",
       "      <td>...</td>\n",
       "    </tr>\n",
       "    <tr>\n",
       "      <th>983</th>\n",
       "      <td>983</td>\n",
       "      <td>tt9347730</td>\n",
       "      <td>Candyman</td>\n",
       "      <td>NaN</td>\n",
       "      <td>2021</td>\n",
       "      <td>91.0</td>\n",
       "      <td>44515.0</td>\n",
       "      <td>False</td>\n",
       "    </tr>\n",
       "    <tr>\n",
       "      <th>987</th>\n",
       "      <td>987</td>\n",
       "      <td>tt9624766</td>\n",
       "      <td>Jiu Jitsu</td>\n",
       "      <td>NaN</td>\n",
       "      <td>2020</td>\n",
       "      <td>102.0</td>\n",
       "      <td>7920.0</td>\n",
       "      <td>False</td>\n",
       "    </tr>\n",
       "    <tr>\n",
       "      <th>988</th>\n",
       "      <td>988</td>\n",
       "      <td>tt9625664</td>\n",
       "      <td>Trauma Center</td>\n",
       "      <td>NaN</td>\n",
       "      <td>2019</td>\n",
       "      <td>87.0</td>\n",
       "      <td>12951.0</td>\n",
       "      <td>False</td>\n",
       "    </tr>\n",
       "    <tr>\n",
       "      <th>989</th>\n",
       "      <td>989</td>\n",
       "      <td>tt9741310</td>\n",
       "      <td>Slaxx</td>\n",
       "      <td>Slaxx</td>\n",
       "      <td>2020</td>\n",
       "      <td>77.0</td>\n",
       "      <td>2464.0</td>\n",
       "      <td>False</td>\n",
       "    </tr>\n",
       "    <tr>\n",
       "      <th>990</th>\n",
       "      <td>990</td>\n",
       "      <td>tt9742392</td>\n",
       "      <td>Kindred</td>\n",
       "      <td>Kindred</td>\n",
       "      <td>2020</td>\n",
       "      <td>101.0</td>\n",
       "      <td>1719.0</td>\n",
       "      <td>False</td>\n",
       "    </tr>\n",
       "  </tbody>\n",
       "</table>\n",
       "<p>3969 rows × 8 columns</p>\n",
       "</div>"
      ],
      "text/plain": [
       "     Unnamed: 0     tconst          primaryTitle      originalTitle startYear  \\\n",
       "6             6  tt0021015  Juno and the Paycock                NaN      1929   \n",
       "26           26  tt0035009       The Mad Monster                NaN      1942   \n",
       "28           28  tt0036716           Cobra Woman        Cobra Woman      1944   \n",
       "38           38  tt0040626     My Dear Secretary  My Dear Secretary      1948   \n",
       "56           56  tt0046248         Robot Monster      Robot Monster      1953   \n",
       "..          ...        ...                   ...                ...       ...   \n",
       "983         983  tt9347730              Candyman                NaN      2021   \n",
       "987         987  tt9624766             Jiu Jitsu                NaN      2020   \n",
       "988         988  tt9625664         Trauma Center                NaN      2019   \n",
       "989         989  tt9741310                 Slaxx              Slaxx      2020   \n",
       "990         990  tt9742392               Kindred            Kindred      2020   \n",
       "\n",
       "     runtimeMinutes  numVotes  label  \n",
       "6              85.0    2275.0  False  \n",
       "26             77.0    1720.0  False  \n",
       "28             71.0    1101.0  False  \n",
       "38             94.0       NaN  False  \n",
       "56             66.0    4924.0  False  \n",
       "..              ...       ...    ...  \n",
       "983            91.0   44515.0  False  \n",
       "987           102.0    7920.0  False  \n",
       "988            87.0   12951.0  False  \n",
       "989            77.0    2464.0  False  \n",
       "990           101.0    1719.0  False  \n",
       "\n",
       "[3969 rows x 8 columns]"
      ]
     },
     "execution_count": 69,
     "metadata": {},
     "output_type": "execute_result"
    }
   ],
   "source": [
    "training_set[training_set['label'] == False]"
   ]
  },
  {
   "cell_type": "code",
   "execution_count": 70,
   "metadata": {},
   "outputs": [
    {
     "data": {
      "text/plain": [
       "True"
      ]
     },
     "execution_count": 70,
     "metadata": {},
     "output_type": "execute_result"
    }
   ],
   "source": [
    "# Check if runtimeMinutes has any 'NaN' values\n",
    "training_set['numVotes'].isnull().any()"
   ]
  },
  {
   "cell_type": "code",
   "execution_count": 71,
   "metadata": {},
   "outputs": [],
   "source": [
    "yearly_minutes = training_set.groupby(training_set['startYear'])['runtimeMinutes'].mean()"
   ]
  },
  {
   "cell_type": "code",
   "execution_count": 72,
   "metadata": {},
   "outputs": [
    {
     "data": {
      "text/plain": [
       "startYear\n",
       "1918     93.000000\n",
       "1919     66.000000\n",
       "1920    106.000000\n",
       "1921     94.250000\n",
       "1922    117.000000\n",
       "           ...    \n",
       "2017    104.750000\n",
       "2018    107.863492\n",
       "2019    107.785498\n",
       "2020    102.852018\n",
       "2021    111.066667\n",
       "Name: runtimeMinutes, Length: 104, dtype: float64"
      ]
     },
     "execution_count": 72,
     "metadata": {},
     "output_type": "execute_result"
    }
   ],
   "source": [
    "yearly_minutes"
   ]
  },
  {
   "cell_type": "code",
   "execution_count": 73,
   "metadata": {},
   "outputs": [
    {
     "name": "stdout",
     "output_type": "stream",
     "text": [
      "      Unnamed: 0     tconst              primaryTitle  \\\n",
      "0              0  tt0010600                  The Doll   \n",
      "1              1  tt0011841             Way Down East   \n",
      "2              0  tt0011607        The Parson's Widow   \n",
      "3              0  tt0011439         The Mark of Zorro   \n",
      "4              2  tt0012494                   Déstiny   \n",
      "...          ...        ...                       ...   \n",
      "7954           7  tt0021409  Under the Roofs of Paris   \n",
      "7955           9  tt0020768                 City Girl   \n",
      "7956           0  tt0013257                     Häxan   \n",
      "7957           1  tt0013556                Robin Hood   \n",
      "7958           0  tt0009369                    Mickey   \n",
      "\n",
      "                originalTitle startYear  runtimeMinutes_df1  numVotes  label  \n",
      "0                   Die Puppe      1919                66.0    1898.0   True  \n",
      "1               Way Down East      1920               145.0    5376.0   True  \n",
      "2                  Prästänkan      1920                94.0    1264.0   True  \n",
      "3           The Mark of Zorro      1920                79.0    2439.0   True  \n",
      "4                Der müde Tod      1921                97.0    5842.0   True  \n",
      "...                       ...       ...                 ...       ...    ...  \n",
      "7954  Sous les toits de Paris      1930                96.0    2214.0   True  \n",
      "7955                      NaN      1930                77.0    3199.0   True  \n",
      "7956                    Häxan      1922                91.0   13679.0   True  \n",
      "7957                      NaN      1922               143.0    2178.0   True  \n",
      "7958                   Mickey      1918                93.0    1119.0  False  \n",
      "\n",
      "[7959 rows x 8 columns]\n"
     ]
    }
   ],
   "source": [
    "# join the two dataframes on the 'year' column\n",
    "training_set_merged = pd.merge(training_set, yearly_minutes, on='startYear', suffixes=('_df1', '_df2'))\n",
    "\n",
    "# replace the '0' values in the 'value_df1' column with the values from the 'value_df2' column\n",
    "training_set_merged['runtimeMinutes_df1'] = training_set_merged['runtimeMinutes_df1'].fillna(training_set_merged['runtimeMinutes_df2'])\n",
    "\n",
    "# drop the 'value_df2' column\n",
    "training_set_merged = training_set_merged.drop('runtimeMinutes_df2', axis=1)\n",
    "\n",
    "# print the result\n",
    "print(training_set_merged)"
   ]
  },
  {
   "cell_type": "code",
   "execution_count": 74,
   "metadata": {},
   "outputs": [
    {
     "data": {
      "text/plain": [
       "startYear\n",
       "1918     1119.000000\n",
       "1919     1898.000000\n",
       "1920     3026.333333\n",
       "1921    42835.666667\n",
       "1922     7928.500000\n",
       "            ...     \n",
       "2017    22245.336700\n",
       "2018    16634.300725\n",
       "2019    27051.881757\n",
       "2020    12430.121827\n",
       "2021    13107.164384\n",
       "Name: numVotes, Length: 104, dtype: float64"
      ]
     },
     "execution_count": 74,
     "metadata": {},
     "output_type": "execute_result"
    }
   ],
   "source": [
    "yearly_votes = training_set.groupby(training_set['startYear'])['numVotes'].mean()\n",
    "yearly_votes"
   ]
  },
  {
   "cell_type": "markdown",
   "metadata": {},
   "source": [
    "# Handling missing values for the originalTitle column\n",
    "\n",
    "There are missing values for some of the original title names (around half are missing) so these were replaced with the value that was in the same row from the column primaryTitle. This is done based on the fact that many values in primaryTitle and originalTitle match up for other values"
   ]
  },
  {
   "cell_type": "code",
   "execution_count": 75,
   "metadata": {},
   "outputs": [
    {
     "data": {
      "text/plain": [
       "3988"
      ]
     },
     "execution_count": 75,
     "metadata": {},
     "output_type": "execute_result"
    }
   ],
   "source": [
    "num_missing = training_set['originalTitle'].isna().sum()\n",
    "num_missing"
   ]
  },
  {
   "cell_type": "code",
   "execution_count": 76,
   "metadata": {},
   "outputs": [
    {
     "data": {
      "text/html": [
       "<div>\n",
       "<style scoped>\n",
       "    .dataframe tbody tr th:only-of-type {\n",
       "        vertical-align: middle;\n",
       "    }\n",
       "\n",
       "    .dataframe tbody tr th {\n",
       "        vertical-align: top;\n",
       "    }\n",
       "\n",
       "    .dataframe thead th {\n",
       "        text-align: right;\n",
       "    }\n",
       "</style>\n",
       "<table border=\"1\" class=\"dataframe\">\n",
       "  <thead>\n",
       "    <tr style=\"text-align: right;\">\n",
       "      <th></th>\n",
       "      <th>Unnamed: 0</th>\n",
       "      <th>tconst</th>\n",
       "      <th>primaryTitle</th>\n",
       "      <th>originalTitle</th>\n",
       "      <th>startYear</th>\n",
       "      <th>runtimeMinutes</th>\n",
       "      <th>numVotes</th>\n",
       "      <th>label</th>\n",
       "    </tr>\n",
       "  </thead>\n",
       "  <tbody>\n",
       "    <tr>\n",
       "      <th>0</th>\n",
       "      <td>0</td>\n",
       "      <td>tt0010600</td>\n",
       "      <td>The Doll</td>\n",
       "      <td>Die Puppe</td>\n",
       "      <td>1919</td>\n",
       "      <td>66.0</td>\n",
       "      <td>1898.0</td>\n",
       "      <td>True</td>\n",
       "    </tr>\n",
       "    <tr>\n",
       "      <th>1</th>\n",
       "      <td>1</td>\n",
       "      <td>tt0011841</td>\n",
       "      <td>Way Down East</td>\n",
       "      <td>Way Down East</td>\n",
       "      <td>1920</td>\n",
       "      <td>145.0</td>\n",
       "      <td>5376.0</td>\n",
       "      <td>True</td>\n",
       "    </tr>\n",
       "    <tr>\n",
       "      <th>2</th>\n",
       "      <td>2</td>\n",
       "      <td>tt0012494</td>\n",
       "      <td>Déstiny</td>\n",
       "      <td>Der müde Tod</td>\n",
       "      <td>1921</td>\n",
       "      <td>97.0</td>\n",
       "      <td>5842.0</td>\n",
       "      <td>True</td>\n",
       "    </tr>\n",
       "    <tr>\n",
       "      <th>3</th>\n",
       "      <td>3</td>\n",
       "      <td>tt0015163</td>\n",
       "      <td>The Navigator</td>\n",
       "      <td>The Navigator</td>\n",
       "      <td>1924</td>\n",
       "      <td>59.0</td>\n",
       "      <td>9652.0</td>\n",
       "      <td>True</td>\n",
       "    </tr>\n",
       "    <tr>\n",
       "      <th>4</th>\n",
       "      <td>4</td>\n",
       "      <td>tt0016220</td>\n",
       "      <td>The Phantom of the Opera</td>\n",
       "      <td>The Phantom of the Opera</td>\n",
       "      <td>1925</td>\n",
       "      <td>93.0</td>\n",
       "      <td>17887.0</td>\n",
       "      <td>True</td>\n",
       "    </tr>\n",
       "    <tr>\n",
       "      <th>...</th>\n",
       "      <td>...</td>\n",
       "      <td>...</td>\n",
       "      <td>...</td>\n",
       "      <td>...</td>\n",
       "      <td>...</td>\n",
       "      <td>...</td>\n",
       "      <td>...</td>\n",
       "      <td>...</td>\n",
       "    </tr>\n",
       "    <tr>\n",
       "      <th>988</th>\n",
       "      <td>988</td>\n",
       "      <td>tt9625664</td>\n",
       "      <td>Trauma Center</td>\n",
       "      <td>Trauma Center</td>\n",
       "      <td>2019</td>\n",
       "      <td>87.0</td>\n",
       "      <td>12951.0</td>\n",
       "      <td>False</td>\n",
       "    </tr>\n",
       "    <tr>\n",
       "      <th>989</th>\n",
       "      <td>989</td>\n",
       "      <td>tt9741310</td>\n",
       "      <td>Slaxx</td>\n",
       "      <td>Slaxx</td>\n",
       "      <td>2020</td>\n",
       "      <td>77.0</td>\n",
       "      <td>2464.0</td>\n",
       "      <td>False</td>\n",
       "    </tr>\n",
       "    <tr>\n",
       "      <th>990</th>\n",
       "      <td>990</td>\n",
       "      <td>tt9742392</td>\n",
       "      <td>Kindred</td>\n",
       "      <td>Kindred</td>\n",
       "      <td>2020</td>\n",
       "      <td>101.0</td>\n",
       "      <td>1719.0</td>\n",
       "      <td>False</td>\n",
       "    </tr>\n",
       "    <tr>\n",
       "      <th>991</th>\n",
       "      <td>991</td>\n",
       "      <td>tt9850386</td>\n",
       "      <td>The Bee Gees: How Can You Mend a Broken Heart</td>\n",
       "      <td>The Bee Gees: How Can You Mend a Broken Heart</td>\n",
       "      <td>2020</td>\n",
       "      <td>111.0</td>\n",
       "      <td>4144.0</td>\n",
       "      <td>True</td>\n",
       "    </tr>\n",
       "    <tr>\n",
       "      <th>992</th>\n",
       "      <td>992</td>\n",
       "      <td>tt9911196</td>\n",
       "      <td>The Marriage Escape</td>\n",
       "      <td>De beentjes van Sint-Hildegard</td>\n",
       "      <td>2020</td>\n",
       "      <td>103.0</td>\n",
       "      <td>3242.0</td>\n",
       "      <td>True</td>\n",
       "    </tr>\n",
       "  </tbody>\n",
       "</table>\n",
       "<p>7959 rows × 8 columns</p>\n",
       "</div>"
      ],
      "text/plain": [
       "     Unnamed: 0     tconst                                   primaryTitle  \\\n",
       "0             0  tt0010600                                       The Doll   \n",
       "1             1  tt0011841                                  Way Down East   \n",
       "2             2  tt0012494                                        Déstiny   \n",
       "3             3  tt0015163                                  The Navigator   \n",
       "4             4  tt0016220                       The Phantom of the Opera   \n",
       "..          ...        ...                                            ...   \n",
       "988         988  tt9625664                                  Trauma Center   \n",
       "989         989  tt9741310                                          Slaxx   \n",
       "990         990  tt9742392                                        Kindred   \n",
       "991         991  tt9850386  The Bee Gees: How Can You Mend a Broken Heart   \n",
       "992         992  tt9911196                            The Marriage Escape   \n",
       "\n",
       "                                     originalTitle startYear  runtimeMinutes  \\\n",
       "0                                        Die Puppe      1919            66.0   \n",
       "1                                    Way Down East      1920           145.0   \n",
       "2                                     Der müde Tod      1921            97.0   \n",
       "3                                    The Navigator      1924            59.0   \n",
       "4                         The Phantom of the Opera      1925            93.0   \n",
       "..                                             ...       ...             ...   \n",
       "988                                  Trauma Center      2019            87.0   \n",
       "989                                          Slaxx      2020            77.0   \n",
       "990                                        Kindred      2020           101.0   \n",
       "991  The Bee Gees: How Can You Mend a Broken Heart      2020           111.0   \n",
       "992                 De beentjes van Sint-Hildegard      2020           103.0   \n",
       "\n",
       "     numVotes  label  \n",
       "0      1898.0   True  \n",
       "1      5376.0   True  \n",
       "2      5842.0   True  \n",
       "3      9652.0   True  \n",
       "4     17887.0   True  \n",
       "..        ...    ...  \n",
       "988   12951.0  False  \n",
       "989    2464.0  False  \n",
       "990    1719.0  False  \n",
       "991    4144.0   True  \n",
       "992    3242.0   True  \n",
       "\n",
       "[7959 rows x 8 columns]"
      ]
     },
     "execution_count": 76,
     "metadata": {},
     "output_type": "execute_result"
    }
   ],
   "source": [
    "#replace all missing values in originalTitle with the value from the same row from the primaryTitle column\n",
    "training_set['originalTitle'] = training_set['originalTitle'].fillna(value=training_set['primaryTitle'])\n",
    "training_set"
   ]
  },
  {
   "cell_type": "code",
   "execution_count": 77,
   "metadata": {},
   "outputs": [
    {
     "data": {
      "text/plain": [
       "0"
      ]
     },
     "execution_count": 77,
     "metadata": {},
     "output_type": "execute_result"
    }
   ],
   "source": [
    "#check missing values\n",
    "num_missing2 = training_set['originalTitle'].isna().sum()\n",
    "num_missing2"
   ]
  },
  {
   "cell_type": "code",
   "execution_count": 78,
   "metadata": {},
   "outputs": [
    {
     "data": {
      "text/plain": [
       "primaryTitle     The Mad Monster\n",
       "originalTitle    The Mad Monster\n",
       "Name: 26, dtype: object"
      ]
     },
     "execution_count": 78,
     "metadata": {},
     "output_type": "execute_result"
    }
   ],
   "source": [
    "#row 26 previously had a NaN value for originalTitle, check to see if the missing value was changed\n",
    "row_data = training_set.iloc[26]\n",
    "row_data[2:4]"
   ]
  },
  {
   "cell_type": "markdown",
   "metadata": {},
   "source": [
    "# SparkSQL"
   ]
  },
  {
   "cell_type": "code",
   "execution_count": 1,
   "metadata": {
    "scrolled": true
   },
   "outputs": [
    {
     "name": "stdout",
     "output_type": "stream",
     "text": [
      "Requirement already satisfied: pyspark in /Users/valentinnegru/opt/anaconda3/lib/python3.9/site-packages (3.3.2)\n",
      "Requirement already satisfied: py4j==0.10.9.5 in /Users/valentinnegru/opt/anaconda3/lib/python3.9/site-packages (from pyspark) (0.10.9.5)\n",
      "Note: you may need to restart the kernel to use updated packages.\n"
     ]
    }
   ],
   "source": [
    "pip install pyspark"
   ]
  },
  {
   "cell_type": "code",
   "execution_count": 17,
   "metadata": {},
   "outputs": [],
   "source": [
    "import pyspark\n",
    "from pyspark.sql import SparkSession\n",
    "from pyspark.sql import Row\n",
    "from pyspark.sql.functions import col, when\n",
    "from scipy.stats.mstats import winsorize\n",
    "\n",
    "spark = SparkSession \\\n",
    "    .builder \\\n",
    "    .appName(\"Big Data Project\") \\\n",
    "    .config(\"spark.some.config.option\", \"some-value\") \\\n",
    "    .getOrCreate()"
   ]
  },
  {
   "cell_type": "code",
   "execution_count": 18,
   "metadata": {},
   "outputs": [],
   "source": [
    "#Concat all the training data into one dataframe\n",
    "files = ['train-2.csv', 'train-3.csv', 'train-4.csv', 'train-5.csv', 'train-6.csv', 'train-7.csv', 'train-8.csv']\n",
    "training_set = spark.read.option(\"delimiter\", \",\").option(\"header\", True).csv(\"train-1.csv\")\n",
    "for file in files:\n",
    "    new_df = spark.read.option(\"delimiter\", \",\").option(\"header\", True).csv(file)\n",
    "    training_set = training_set.union(new_df)"
   ]
  },
  {
   "cell_type": "code",
   "execution_count": 19,
   "metadata": {
    "scrolled": true
   },
   "outputs": [
    {
     "name": "stdout",
     "output_type": "stream",
     "text": [
      "+---+---------+--------------------+--------------------+---------+--------------+--------+-----+\n",
      "|_c0|   tconst|        primaryTitle|       originalTitle|startYear|runtimeMinutes|numVotes|label|\n",
      "+---+---------+--------------------+--------------------+---------+--------------+--------+-----+\n",
      "|  2|tt0009369|              Mickey|              Mickey|     1918|            93|  1119.0|False|\n",
      "|  4|tt0010600|            The Doll|           Die Puppe|     1919|            66|  1898.0| True|\n",
      "|  5|tt0011439|   The Mark of Zorro|   The Mark of Zorro|     1920|            79|  2439.0| True|\n",
      "|  6|tt0011607|  The Parson's Widow|          Prästänkan|     1920|            94|  1264.0| True|\n",
      "|  7|tt0011841|       Way Down East|       Way Down East|     1920|           145|  5376.0| True|\n",
      "|  8|tt0012349|             The Kid|                null|     1921|            68|121452.0| True|\n",
      "|  9|tt0012494|             Déstiny|        Der müde Tod|     1921|            97|  5842.0| True|\n",
      "| 10|tt0012532|Ớrpháns ớf thé Stớrm|                null|     1921|           150|    null| True|\n",
      "| 11|tt0013257|               Häxan|               Häxan|     1922|            91| 13679.0| True|\n",
      "| 12|tt0013556|          Robin Hood|                null|     1922|           143|  2178.0| True|\n",
      "| 13|tt0013933|  The Faithful Heart|        Coeur fidèle|     1923|            87|  1252.0| True|\n",
      "| 14|tt0014109|The Saga of Gösta...|                null|     1924|           183|  1231.0| True|\n",
      "| 15|tt0014142|The Hunchback of ...|                null|     1923|           133|  5288.0| True|\n",
      "| 16|tt0014341|     Our Hospitality|     Our Hospitality|     1923|            65| 10911.0| True|\n",
      "| 17|tt0014358|         The Pilgrim|                null|     1923|            47|  4891.0| True|\n",
      "| 19|tt0014538|          Three Ages|                null|     1923|            63|  4312.0| True|\n",
      "| 20|tt0014611|          Why Worry?|                null|     1923|            63|  1739.0| True|\n",
      "| 21|tt0014945|            Girl Shy|            Girl Shy|     1924|            87|  3327.0| True|\n",
      "| 24|tt0015064|      The Last Laugh|     Der letzte Mann|     1924|            77|    null| True|\n",
      "| 25|tt0015163|       The Navigator|       The Navigator|     1924|            59|  9652.0| True|\n",
      "| 29|tt0015224|           Peter Pan|                null|     1924|           105|  1042.0| True|\n",
      "| 30|tt0015361|              Strike|                null|     1925|            82|  7695.0| True|\n",
      "| 31|tt0015400| The Thief of Bagdad|                null|     1924|           155|  6001.0| True|\n",
      "| 32|tt0015841|        The Freshman|        The Freshman|     1925|            77|  5374.0| True|\n",
      "| 33|tt0015842|  The Joyless Street|                null|     1925|           125|  1554.0| True|\n",
      "| 35|tt0015864|       The Gold Rush|                null|     1925|            95|107475.0| True|\n",
      "| 36|tt0015881|               Greed|                null|     1924|           140|  9649.0| True|\n",
      "| 37|tt0016029|  The Little Colonel|                null|     1935|            81|  1646.0| True|\n",
      "| 38|tt0016220|The Phantom of th...|The Phantom of th...|     1925|            93| 17887.0| True|\n",
      "| 41|tt0016544|    The Wizard of Oz|                null|     1925|            95|  1497.0|False|\n",
      "| 42|tt0016630|     Báttling Bútlér|     Battling Butler|     1926|            77|  3285.0| True|\n",
      "| 43|tt0016641|Ben-Hur: A Tale o...|Ben-Hur: A Tale o...|     1925|           143|  7539.0| True|\n",
      "| 44|tt0016847|               Faust|                null|     1926|           107| 14809.0| True|\n",
      "| 45|tt0017048|   A Page of Madness|                null|     1926|            70|  3357.0| True|\n",
      "| 47|tt0017271|          By the Law|                null|     1926|            80|  1057.0| True|\n",
      "| 48|tt0017350|  The Scarlet Letter|                null|     1926|           115|  1768.0| True|\n",
      "| 49|tt0017463|           3 Bad Men|           3 Bad Men|     1926|            92|  1165.0| True|\n",
      "| 50|tt0017925|         The General|                null|     1926|            67| 87784.0| True|\n",
      "| 51|tt0017961|           Happiness|                null|     1935|            95|  1080.0| True|\n",
      "| 52|tt0018054|   Thé King ớf Kings|   The King of Kings|     1927|           160|  2081.0| True|\n",
      "| 53|tt0018066|Thé Énd ớf St. Pé...|Konets Sankt-Pete...|     1927|            85|    null| True|\n",
      "| 54|tt0018192|            Napoleon|Napoléon vu par A...|     1927|           330|  7622.0| True|\n",
      "| 55|tt0018379|          7th Heaven|          7th Heaven|     1927|           110|  3499.0| True|\n",
      "| 56|tt0018451|The Student Princ...|                null|     1927|           106|  1459.0| True|\n",
      "| 57|tt0018526|          Úndérwớrld|                null|     1927|            80|  2912.0| True|\n",
      "| 58|tt0018528|         The Unknown|                null|     1927|            63|  7850.0| True|\n",
      "| 59|tt0018578|               Wings|                null|     1927|           144|    null| True|\n",
      "| 60|tt0018684|     Beggars of Life|     Beggars of Life|     1928|           100|  1093.0| True|\n",
      "| 62|tt0018742|       The Cameraman|       The Cameraman|     1928|            76| 11388.0| True|\n",
      "| 63|tt0018773|          Thé Circús|                null|     1928|            72| 32601.0| True|\n",
      "+---+---------+--------------------+--------------------+---------+--------------+--------+-----+\n",
      "only showing top 50 rows\n",
      "\n"
     ]
    }
   ],
   "source": [
    "#Replacing missing startYear with endYear\n",
    "training_set = training_set.withColumn(\"startYear\", when(training_set.startYear == \"\\\\N\", training_set.endYear).otherwise(training_set.startYear))\n",
    "training_set = training_set.orderBy('tconst')\n",
    "training_set = training_set.drop('endYear')\n",
    "training_set.show(50)"
   ]
  },
  {
   "cell_type": "code",
   "execution_count": 20,
   "metadata": {},
   "outputs": [],
   "source": [
    "#replace missing values in original title with corresponding values in primary title\n",
    "from pyspark.sql.functions import coalesce\n",
    "\n",
    "def impute_missing_values(df, column_name):\n",
    "    \"\"\"\n",
    "    This function replaces missing values in one column of the data frame with the values \n",
    "    from the corresponding row of another column.\n",
    "    \"\"\"\n",
    "    \n",
    "    df = df.withColumn(column_name, coalesce(df[\"primaryTitle\"], df[column_name]))\n",
    "    return df"
   ]
  },
  {
   "cell_type": "code",
   "execution_count": 21,
   "metadata": {
    "scrolled": true
   },
   "outputs": [
    {
     "name": "stdout",
     "output_type": "stream",
     "text": [
      "+---+---------+--------------------+--------------------+---------+--------------+--------+-----+\n",
      "|_c0|   tconst|        primaryTitle|       originalTitle|startYear|runtimeMinutes|numVotes|label|\n",
      "+---+---------+--------------------+--------------------+---------+--------------+--------+-----+\n",
      "|  2|tt0009369|              Mickey|              Mickey|     1918|            93|  1119.0|False|\n",
      "|  4|tt0010600|            The Doll|            The Doll|     1919|            66|  1898.0| True|\n",
      "|  5|tt0011439|   The Mark of Zorro|   The Mark of Zorro|     1920|            79|  2439.0| True|\n",
      "|  6|tt0011607|  The Parson's Widow|  The Parson's Widow|     1920|            94|  1264.0| True|\n",
      "|  7|tt0011841|       Way Down East|       Way Down East|     1920|           145|  5376.0| True|\n",
      "|  8|tt0012349|             The Kid|             The Kid|     1921|            68|121452.0| True|\n",
      "|  9|tt0012494|             Déstiny|             Déstiny|     1921|            97|  5842.0| True|\n",
      "| 10|tt0012532|Ớrpháns ớf thé Stớrm|Ớrpháns ớf thé Stớrm|     1921|           150|    null| True|\n",
      "| 11|tt0013257|               Häxan|               Häxan|     1922|            91| 13679.0| True|\n",
      "| 12|tt0013556|          Robin Hood|          Robin Hood|     1922|           143|  2178.0| True|\n",
      "| 13|tt0013933|  The Faithful Heart|  The Faithful Heart|     1923|            87|  1252.0| True|\n",
      "| 14|tt0014109|The Saga of Gösta...|The Saga of Gösta...|     1924|           183|  1231.0| True|\n",
      "| 15|tt0014142|The Hunchback of ...|The Hunchback of ...|     1923|           133|  5288.0| True|\n",
      "| 16|tt0014341|     Our Hospitality|     Our Hospitality|     1923|            65| 10911.0| True|\n",
      "| 17|tt0014358|         The Pilgrim|         The Pilgrim|     1923|            47|  4891.0| True|\n",
      "| 19|tt0014538|          Three Ages|          Three Ages|     1923|            63|  4312.0| True|\n",
      "| 20|tt0014611|          Why Worry?|          Why Worry?|     1923|            63|  1739.0| True|\n",
      "| 21|tt0014945|            Girl Shy|            Girl Shy|     1924|            87|  3327.0| True|\n",
      "| 24|tt0015064|      The Last Laugh|      The Last Laugh|     1924|            77|    null| True|\n",
      "| 25|tt0015163|       The Navigator|       The Navigator|     1924|            59|  9652.0| True|\n",
      "+---+---------+--------------------+--------------------+---------+--------------+--------+-----+\n",
      "only showing top 20 rows\n",
      "\n"
     ]
    }
   ],
   "source": [
    "training_set = impute_missing_values(training_set, \"originalTitle\")\n",
    "training_set.show()"
   ]
  },
  {
   "cell_type": "code",
   "execution_count": 22,
   "metadata": {
    "scrolled": true
   },
   "outputs": [
    {
     "name": "stdout",
     "output_type": "stream",
     "text": [
      "+---+------+------------+-------------+---------+--------------+--------+-----+\n",
      "|_c0|tconst|primaryTitle|originalTitle|startYear|runtimeMinutes|numVotes|label|\n",
      "+---+------+------------+-------------+---------+--------------+--------+-----+\n",
      "+---+------+------------+-------------+---------+--------------+--------+-----+\n",
      "\n"
     ]
    }
   ],
   "source": [
    "#check missing values\n",
    "from pyspark.sql.functions import col\n",
    "\n",
    "training_set.filter(col(\"originalTitle\").isNull()).show()"
   ]
  },
  {
   "cell_type": "code",
   "execution_count": 23,
   "metadata": {
    "scrolled": true
   },
   "outputs": [],
   "source": [
    "# Use the DESCRIBE statement to view the schema of the table\n",
    "#spark.sql(\"DESCRIBE training_set\").show()"
   ]
  },
  {
   "cell_type": "code",
   "execution_count": 24,
   "metadata": {},
   "outputs": [],
   "source": [
    "#transform numVotes to float\n",
    "training_set = training_set.withColumn(\"numVotes\", col(\"numVotes\").cast(\"float\"))"
   ]
  },
  {
   "cell_type": "code",
   "execution_count": 25,
   "metadata": {},
   "outputs": [
    {
     "name": "stdout",
     "output_type": "stream",
     "text": [
      "root\n",
      " |-- numVotes: float (nullable = true)\n",
      "\n"
     ]
    }
   ],
   "source": [
    "#check\n",
    "training_set.select(\"numVotes\").printSchema()"
   ]
  },
  {
   "cell_type": "code",
   "execution_count": 26,
   "metadata": {
    "scrolled": true
   },
   "outputs": [
    {
     "name": "stdout",
     "output_type": "stream",
     "text": [
      "+---+---------+--------------------+--------------------+---------+--------------+--------+-----+\n",
      "|_c0|   tconst|        primaryTitle|       originalTitle|startYear|runtimeMinutes|numVotes|label|\n",
      "+---+---------+--------------------+--------------------+---------+--------------+--------+-----+\n",
      "|  8|tt0012349|             The Kid|             The Kid|     1921|            68|121452.0| True|\n",
      "| 35|tt0015864|       The Gold Rush|       The Gold Rush|     1925|            95|107475.0| True|\n",
      "| 50|tt0017925|         The General|         The General|     1926|            67| 87784.0| True|\n",
      "| 63|tt0018773|          Thé Circús|          Thé Circús|     1928|            72| 32601.0| True|\n",
      "| 86|tt0021884|        Frankenstein|        Frankenstein|     1931|            70| 69780.0| True|\n",
      "| 89|tt0022100|                   M|                   M|     1931|           117|152166.0| True|\n",
      "|102|tt0022913|              Freaks|              Freaks|     1932|            64| 44794.0| True|\n",
      "|117|tt0023969|           Dúck Sớúp|           Dúck Sớúp|     1933|            69| 59069.0| True|\n",
      "|123|tt0024184|   The Invisible Man|   The Invisible Man|     1933|            71| 33562.0| True|\n",
      "|125|tt0024216|           King Kong|           King Kong|     1933|           100| 83177.0| True|\n",
      "|148|tt0026029|        Thé 39 Stéps|        Thé 39 Stéps|     1935|            86| 55071.0| True|\n",
      "|169|tt0027977|        Modern Times|        Modern Times|     1936|            87|231243.0| True|\n",
      "|207|tt0029947|    Bringing Up Baby|    Bringing Up Baby|     1938|           102| 59515.0| True|\n",
      "|215|tt0030341|   The Lady Vanishes|   The Lady Vanishes|     1938|            96| 50707.0| True|\n",
      "|230|tt0031381|  Gone with the Wind|  Gone with the Wind|     1939|           238|303845.0| True|\n",
      "|247|tt0031971|          Stagecoach|          Stagecoach|     1939|            96| 46868.0| True|\n",
      "|249|tt0032138|    The Wizard of Oz|    The Wizard of Oz|     1939|           102|382348.0| True|\n",
      "|272|tt0032904|The Philadelphia ...|The Philadelphia ...|     1940|           112| 66874.0| True|\n",
      "|273|tt0032910|           Pinocchio|           Pinocchio|     1940|            88|138477.0| True|\n",
      "|278|tt0033045|The Shop Around t...|The Shop Around t...|     1940|            99| 30968.0| True|\n",
      "+---+---------+--------------------+--------------------+---------+--------------+--------+-----+\n",
      "only showing top 20 rows\n",
      "\n"
     ]
    }
   ],
   "source": [
    "#finding & displaying outliers in the numVotes column\n",
    "\n",
    "from pyspark.sql.functions import expr\n",
    "\n",
    "#Temporary view of the dataframe\n",
    "training_set.createOrReplaceTempView(\"training_set\")\n",
    "\n",
    "#Interquartile range (IQR)\n",
    "q1, q3 = training_set.approxQuantile(\"numVotes\", [0.25, 0.75], 0.01)\n",
    "iqr = q3 - q1\n",
    "\n",
    "#Upper and lower limits\n",
    "upper_limit = q3 + 1.5 * iqr\n",
    "lower_limit = q1 - 1.5 * iqr\n",
    "\n",
    "#Find outliers\n",
    "outliers = spark.sql(f\"SELECT * FROM training_set WHERE numVotes > {upper_limit} OR numVotes < {lower_limit}\")\n",
    "outliers.show()"
   ]
  },
  {
   "cell_type": "code",
   "execution_count": 27,
   "metadata": {},
   "outputs": [
    {
     "name": "stdout",
     "output_type": "stream",
     "text": [
      "Number of outliers: 1138\n"
     ]
    }
   ],
   "source": [
    "#Count the number of outliers\n",
    "outliers_count = outliers.count()\n",
    "print(f\"Number of outliers: {outliers_count}\")"
   ]
  },
  {
   "cell_type": "code",
   "execution_count": 28,
   "metadata": {},
   "outputs": [],
   "source": [
    "#over 14% of numVotes values are considered to be outliers\n",
    "#use winsorized mean to impute missing values, better than k-trimmed mean, otherwise too many values are removed\n",
    "#mean is less affected by outliers & provides better representation"
   ]
  },
  {
   "cell_type": "code",
   "execution_count": 29,
   "metadata": {},
   "outputs": [],
   "source": [
    "\n",
    "\n",
    "def replace_null_with_winsorized_mean(df, column_name):\n",
    "    \"\"\"\n",
    "    This function replaces null values in a column with the winsorized mean of the column.\n",
    "    \"\"\"\n",
    "    \n",
    "    # Compute the median of the column\n",
    "    median_value = df.selectExpr(f\"percentile_approx({column_name}, 0.5)\").collect()[0][0]\n",
    "    \n",
    "    # Replace null values with the median\n",
    "    df = df.withColumn(column_name, when(col(column_name).isNull(), median_value).otherwise(col(column_name)))\n",
    "    \n",
    "    # Compute the winsorized mean of the column\n",
    "    column = df.select(column_name).rdd.flatMap(lambda x: x).collect()\n",
    "    winsorized_mean = winsorize(column, limits=[0.05, 0.05]).mean()\n",
    "    \n",
    "    # Replace null values with winsorized mean\n",
    "    df = df.withColumn(column_name, when(col(column_name).isNull(), winsorized_mean).otherwise(col(column_name)))\n",
    "    \n",
    "    return df"
   ]
  },
  {
   "cell_type": "code",
   "execution_count": 30,
   "metadata": {
    "scrolled": true
   },
   "outputs": [
    {
     "ename": "Py4JJavaError",
     "evalue": "An error occurred while calling z:org.apache.spark.api.python.PythonRDD.collectAndServe.\n: org.apache.spark.SparkException: Job aborted due to stage failure: Task 0 in stage 60.0 failed 1 times, most recent failure: Lost task 0.0 in stage 60.0 (TID 209) (145.109.33.168 executor driver): org.apache.spark.SparkException: Python worker failed to connect back.\r\n\tat org.apache.spark.api.python.PythonWorkerFactory.createSimpleWorker(PythonWorkerFactory.scala:189)\r\n\tat org.apache.spark.api.python.PythonWorkerFactory.create(PythonWorkerFactory.scala:109)\r\n\tat org.apache.spark.SparkEnv.createPythonWorker(SparkEnv.scala:124)\r\n\tat org.apache.spark.api.python.BasePythonRunner.compute(PythonRunner.scala:157)\r\n\tat org.apache.spark.api.python.PythonRDD.compute(PythonRDD.scala:65)\r\n\tat org.apache.spark.rdd.RDD.computeOrReadCheckpoint(RDD.scala:365)\r\n\tat org.apache.spark.rdd.RDD.iterator(RDD.scala:329)\r\n\tat org.apache.spark.scheduler.ResultTask.runTask(ResultTask.scala:90)\r\n\tat org.apache.spark.scheduler.Task.run(Task.scala:136)\r\n\tat org.apache.spark.executor.Executor$TaskRunner.$anonfun$run$3(Executor.scala:548)\r\n\tat org.apache.spark.util.Utils$.tryWithSafeFinally(Utils.scala:1504)\r\n\tat org.apache.spark.executor.Executor$TaskRunner.run(Executor.scala:551)\r\n\tat java.base/java.util.concurrent.ThreadPoolExecutor.runWorker(ThreadPoolExecutor.java:1130)\r\n\tat java.base/java.util.concurrent.ThreadPoolExecutor$Worker.run(ThreadPoolExecutor.java:630)\r\n\tat java.base/java.lang.Thread.run(Thread.java:832)\r\nCaused by: java.net.SocketTimeoutException: Accept timed out\r\n\tat java.base/sun.nio.ch.NioSocketImpl.timedAccept(NioSocketImpl.java:708)\r\n\tat java.base/sun.nio.ch.NioSocketImpl.accept(NioSocketImpl.java:752)\r\n\tat java.base/java.net.ServerSocket.implAccept(ServerSocket.java:684)\r\n\tat java.base/java.net.ServerSocket.platformImplAccept(ServerSocket.java:650)\r\n\tat java.base/java.net.ServerSocket.implAccept(ServerSocket.java:626)\r\n\tat java.base/java.net.ServerSocket.implAccept(ServerSocket.java:583)\r\n\tat java.base/java.net.ServerSocket.accept(ServerSocket.java:540)\r\n\tat org.apache.spark.api.python.PythonWorkerFactory.createSimpleWorker(PythonWorkerFactory.scala:176)\r\n\t... 14 more\r\n\nDriver stacktrace:\r\n\tat org.apache.spark.scheduler.DAGScheduler.failJobAndIndependentStages(DAGScheduler.scala:2672)\r\n\tat org.apache.spark.scheduler.DAGScheduler.$anonfun$abortStage$2(DAGScheduler.scala:2608)\r\n\tat org.apache.spark.scheduler.DAGScheduler.$anonfun$abortStage$2$adapted(DAGScheduler.scala:2607)\r\n\tat scala.collection.mutable.ResizableArray.foreach(ResizableArray.scala:62)\r\n\tat scala.collection.mutable.ResizableArray.foreach$(ResizableArray.scala:55)\r\n\tat scala.collection.mutable.ArrayBuffer.foreach(ArrayBuffer.scala:49)\r\n\tat org.apache.spark.scheduler.DAGScheduler.abortStage(DAGScheduler.scala:2607)\r\n\tat org.apache.spark.scheduler.DAGScheduler.$anonfun$handleTaskSetFailed$1(DAGScheduler.scala:1182)\r\n\tat org.apache.spark.scheduler.DAGScheduler.$anonfun$handleTaskSetFailed$1$adapted(DAGScheduler.scala:1182)\r\n\tat scala.Option.foreach(Option.scala:407)\r\n\tat org.apache.spark.scheduler.DAGScheduler.handleTaskSetFailed(DAGScheduler.scala:1182)\r\n\tat org.apache.spark.scheduler.DAGSchedulerEventProcessLoop.doOnReceive(DAGScheduler.scala:2860)\r\n\tat org.apache.spark.scheduler.DAGSchedulerEventProcessLoop.onReceive(DAGScheduler.scala:2802)\r\n\tat org.apache.spark.scheduler.DAGSchedulerEventProcessLoop.onReceive(DAGScheduler.scala:2791)\r\n\tat org.apache.spark.util.EventLoop$$anon$1.run(EventLoop.scala:49)\r\n\tat org.apache.spark.scheduler.DAGScheduler.runJob(DAGScheduler.scala:952)\r\n\tat org.apache.spark.SparkContext.runJob(SparkContext.scala:2238)\r\n\tat org.apache.spark.SparkContext.runJob(SparkContext.scala:2259)\r\n\tat org.apache.spark.SparkContext.runJob(SparkContext.scala:2278)\r\n\tat org.apache.spark.SparkContext.runJob(SparkContext.scala:2303)\r\n\tat org.apache.spark.rdd.RDD.$anonfun$collect$1(RDD.scala:1021)\r\n\tat org.apache.spark.rdd.RDDOperationScope$.withScope(RDDOperationScope.scala:151)\r\n\tat org.apache.spark.rdd.RDDOperationScope$.withScope(RDDOperationScope.scala:112)\r\n\tat org.apache.spark.rdd.RDD.withScope(RDD.scala:406)\r\n\tat org.apache.spark.rdd.RDD.collect(RDD.scala:1020)\r\n\tat org.apache.spark.api.python.PythonRDD$.collectAndServe(PythonRDD.scala:180)\r\n\tat org.apache.spark.api.python.PythonRDD.collectAndServe(PythonRDD.scala)\r\n\tat java.base/jdk.internal.reflect.NativeMethodAccessorImpl.invoke0(Native Method)\r\n\tat java.base/jdk.internal.reflect.NativeMethodAccessorImpl.invoke(NativeMethodAccessorImpl.java:64)\r\n\tat java.base/jdk.internal.reflect.DelegatingMethodAccessorImpl.invoke(DelegatingMethodAccessorImpl.java:43)\r\n\tat java.base/java.lang.reflect.Method.invoke(Method.java:564)\r\n\tat py4j.reflection.MethodInvoker.invoke(MethodInvoker.java:244)\r\n\tat py4j.reflection.ReflectionEngine.invoke(ReflectionEngine.java:357)\r\n\tat py4j.Gateway.invoke(Gateway.java:282)\r\n\tat py4j.commands.AbstractCommand.invokeMethod(AbstractCommand.java:132)\r\n\tat py4j.commands.CallCommand.execute(CallCommand.java:79)\r\n\tat py4j.ClientServerConnection.waitForCommands(ClientServerConnection.java:182)\r\n\tat py4j.ClientServerConnection.run(ClientServerConnection.java:106)\r\n\tat java.base/java.lang.Thread.run(Thread.java:832)\r\nCaused by: org.apache.spark.SparkException: Python worker failed to connect back.\r\n\tat org.apache.spark.api.python.PythonWorkerFactory.createSimpleWorker(PythonWorkerFactory.scala:189)\r\n\tat org.apache.spark.api.python.PythonWorkerFactory.create(PythonWorkerFactory.scala:109)\r\n\tat org.apache.spark.SparkEnv.createPythonWorker(SparkEnv.scala:124)\r\n\tat org.apache.spark.api.python.BasePythonRunner.compute(PythonRunner.scala:157)\r\n\tat org.apache.spark.api.python.PythonRDD.compute(PythonRDD.scala:65)\r\n\tat org.apache.spark.rdd.RDD.computeOrReadCheckpoint(RDD.scala:365)\r\n\tat org.apache.spark.rdd.RDD.iterator(RDD.scala:329)\r\n\tat org.apache.spark.scheduler.ResultTask.runTask(ResultTask.scala:90)\r\n\tat org.apache.spark.scheduler.Task.run(Task.scala:136)\r\n\tat org.apache.spark.executor.Executor$TaskRunner.$anonfun$run$3(Executor.scala:548)\r\n\tat org.apache.spark.util.Utils$.tryWithSafeFinally(Utils.scala:1504)\r\n\tat org.apache.spark.executor.Executor$TaskRunner.run(Executor.scala:551)\r\n\tat java.base/java.util.concurrent.ThreadPoolExecutor.runWorker(ThreadPoolExecutor.java:1130)\r\n\tat java.base/java.util.concurrent.ThreadPoolExecutor$Worker.run(ThreadPoolExecutor.java:630)\r\n\t... 1 more\r\nCaused by: java.net.SocketTimeoutException: Accept timed out\r\n\tat java.base/sun.nio.ch.NioSocketImpl.timedAccept(NioSocketImpl.java:708)\r\n\tat java.base/sun.nio.ch.NioSocketImpl.accept(NioSocketImpl.java:752)\r\n\tat java.base/java.net.ServerSocket.implAccept(ServerSocket.java:684)\r\n\tat java.base/java.net.ServerSocket.platformImplAccept(ServerSocket.java:650)\r\n\tat java.base/java.net.ServerSocket.implAccept(ServerSocket.java:626)\r\n\tat java.base/java.net.ServerSocket.implAccept(ServerSocket.java:583)\r\n\tat java.base/java.net.ServerSocket.accept(ServerSocket.java:540)\r\n\tat org.apache.spark.api.python.PythonWorkerFactory.createSimpleWorker(PythonWorkerFactory.scala:176)\r\n\t... 14 more\r\n",
     "output_type": "error",
     "traceback": [
      "\u001b[1;31m---------------------------------------------------------------------------\u001b[0m",
      "\u001b[1;31mPy4JJavaError\u001b[0m                             Traceback (most recent call last)",
      "\u001b[1;32m<ipython-input-30-0b0e4d42c494>\u001b[0m in \u001b[0;36m<module>\u001b[1;34m\u001b[0m\n\u001b[1;32m----> 1\u001b[1;33m \u001b[0mtraining_set\u001b[0m \u001b[1;33m=\u001b[0m \u001b[0mreplace_null_with_winsorized_mean\u001b[0m\u001b[1;33m(\u001b[0m\u001b[0mtraining_set\u001b[0m\u001b[1;33m,\u001b[0m \u001b[1;34m\"numVotes\"\u001b[0m\u001b[1;33m)\u001b[0m\u001b[1;33m\u001b[0m\u001b[1;33m\u001b[0m\u001b[0m\n\u001b[0m\u001b[0;32m      2\u001b[0m \u001b[0mtraining_set\u001b[0m\u001b[1;33m.\u001b[0m\u001b[0mshow\u001b[0m\u001b[1;33m(\u001b[0m\u001b[1;33m)\u001b[0m\u001b[1;33m\u001b[0m\u001b[1;33m\u001b[0m\u001b[0m\n",
      "\u001b[1;32m<ipython-input-29-424ae8d4314e>\u001b[0m in \u001b[0;36mreplace_null_with_winsorized_mean\u001b[1;34m(df, column_name)\u001b[0m\n\u001b[0;32m     11\u001b[0m \u001b[1;33m\u001b[0m\u001b[0m\n\u001b[0;32m     12\u001b[0m     \u001b[1;31m# Compute the winsorized mean of the column\u001b[0m\u001b[1;33m\u001b[0m\u001b[1;33m\u001b[0m\u001b[1;33m\u001b[0m\u001b[0m\n\u001b[1;32m---> 13\u001b[1;33m     \u001b[0mcolumn\u001b[0m \u001b[1;33m=\u001b[0m \u001b[0mdf\u001b[0m\u001b[1;33m.\u001b[0m\u001b[0mselect\u001b[0m\u001b[1;33m(\u001b[0m\u001b[0mcolumn_name\u001b[0m\u001b[1;33m)\u001b[0m\u001b[1;33m.\u001b[0m\u001b[0mrdd\u001b[0m\u001b[1;33m.\u001b[0m\u001b[0mflatMap\u001b[0m\u001b[1;33m(\u001b[0m\u001b[1;32mlambda\u001b[0m \u001b[0mx\u001b[0m\u001b[1;33m:\u001b[0m \u001b[0mx\u001b[0m\u001b[1;33m)\u001b[0m\u001b[1;33m.\u001b[0m\u001b[0mcollect\u001b[0m\u001b[1;33m(\u001b[0m\u001b[1;33m)\u001b[0m\u001b[1;33m\u001b[0m\u001b[1;33m\u001b[0m\u001b[0m\n\u001b[0m\u001b[0;32m     14\u001b[0m     \u001b[0mwinsorized_mean\u001b[0m \u001b[1;33m=\u001b[0m \u001b[0mwinsorize\u001b[0m\u001b[1;33m(\u001b[0m\u001b[0mcolumn\u001b[0m\u001b[1;33m,\u001b[0m \u001b[0mlimits\u001b[0m\u001b[1;33m=\u001b[0m\u001b[1;33m[\u001b[0m\u001b[1;36m0.05\u001b[0m\u001b[1;33m,\u001b[0m \u001b[1;36m0.05\u001b[0m\u001b[1;33m]\u001b[0m\u001b[1;33m)\u001b[0m\u001b[1;33m.\u001b[0m\u001b[0mmean\u001b[0m\u001b[1;33m(\u001b[0m\u001b[1;33m)\u001b[0m\u001b[1;33m\u001b[0m\u001b[1;33m\u001b[0m\u001b[0m\n\u001b[0;32m     15\u001b[0m \u001b[1;33m\u001b[0m\u001b[0m\n",
      "\u001b[1;32m~\\anaconda3\\lib\\site-packages\\pyspark\\rdd.py\u001b[0m in \u001b[0;36mcollect\u001b[1;34m(self)\u001b[0m\n\u001b[0;32m   1195\u001b[0m         \u001b[1;32mwith\u001b[0m \u001b[0mSCCallSiteSync\u001b[0m\u001b[1;33m(\u001b[0m\u001b[0mself\u001b[0m\u001b[1;33m.\u001b[0m\u001b[0mcontext\u001b[0m\u001b[1;33m)\u001b[0m\u001b[1;33m:\u001b[0m\u001b[1;33m\u001b[0m\u001b[1;33m\u001b[0m\u001b[0m\n\u001b[0;32m   1196\u001b[0m             \u001b[1;32massert\u001b[0m \u001b[0mself\u001b[0m\u001b[1;33m.\u001b[0m\u001b[0mctx\u001b[0m\u001b[1;33m.\u001b[0m\u001b[0m_jvm\u001b[0m \u001b[1;32mis\u001b[0m \u001b[1;32mnot\u001b[0m \u001b[1;32mNone\u001b[0m\u001b[1;33m\u001b[0m\u001b[1;33m\u001b[0m\u001b[0m\n\u001b[1;32m-> 1197\u001b[1;33m             \u001b[0msock_info\u001b[0m \u001b[1;33m=\u001b[0m \u001b[0mself\u001b[0m\u001b[1;33m.\u001b[0m\u001b[0mctx\u001b[0m\u001b[1;33m.\u001b[0m\u001b[0m_jvm\u001b[0m\u001b[1;33m.\u001b[0m\u001b[0mPythonRDD\u001b[0m\u001b[1;33m.\u001b[0m\u001b[0mcollectAndServe\u001b[0m\u001b[1;33m(\u001b[0m\u001b[0mself\u001b[0m\u001b[1;33m.\u001b[0m\u001b[0m_jrdd\u001b[0m\u001b[1;33m.\u001b[0m\u001b[0mrdd\u001b[0m\u001b[1;33m(\u001b[0m\u001b[1;33m)\u001b[0m\u001b[1;33m)\u001b[0m\u001b[1;33m\u001b[0m\u001b[1;33m\u001b[0m\u001b[0m\n\u001b[0m\u001b[0;32m   1198\u001b[0m         \u001b[1;32mreturn\u001b[0m \u001b[0mlist\u001b[0m\u001b[1;33m(\u001b[0m\u001b[0m_load_from_socket\u001b[0m\u001b[1;33m(\u001b[0m\u001b[0msock_info\u001b[0m\u001b[1;33m,\u001b[0m \u001b[0mself\u001b[0m\u001b[1;33m.\u001b[0m\u001b[0m_jrdd_deserializer\u001b[0m\u001b[1;33m)\u001b[0m\u001b[1;33m)\u001b[0m\u001b[1;33m\u001b[0m\u001b[1;33m\u001b[0m\u001b[0m\n\u001b[0;32m   1199\u001b[0m \u001b[1;33m\u001b[0m\u001b[0m\n",
      "\u001b[1;32m~\\anaconda3\\lib\\site-packages\\py4j\\java_gateway.py\u001b[0m in \u001b[0;36m__call__\u001b[1;34m(self, *args)\u001b[0m\n\u001b[0;32m   1319\u001b[0m \u001b[1;33m\u001b[0m\u001b[0m\n\u001b[0;32m   1320\u001b[0m         \u001b[0manswer\u001b[0m \u001b[1;33m=\u001b[0m \u001b[0mself\u001b[0m\u001b[1;33m.\u001b[0m\u001b[0mgateway_client\u001b[0m\u001b[1;33m.\u001b[0m\u001b[0msend_command\u001b[0m\u001b[1;33m(\u001b[0m\u001b[0mcommand\u001b[0m\u001b[1;33m)\u001b[0m\u001b[1;33m\u001b[0m\u001b[1;33m\u001b[0m\u001b[0m\n\u001b[1;32m-> 1321\u001b[1;33m         return_value = get_return_value(\n\u001b[0m\u001b[0;32m   1322\u001b[0m             answer, self.gateway_client, self.target_id, self.name)\n\u001b[0;32m   1323\u001b[0m \u001b[1;33m\u001b[0m\u001b[0m\n",
      "\u001b[1;32m~\\anaconda3\\lib\\site-packages\\pyspark\\sql\\utils.py\u001b[0m in \u001b[0;36mdeco\u001b[1;34m(*a, **kw)\u001b[0m\n\u001b[0;32m    188\u001b[0m     \u001b[1;32mdef\u001b[0m \u001b[0mdeco\u001b[0m\u001b[1;33m(\u001b[0m\u001b[1;33m*\u001b[0m\u001b[0ma\u001b[0m\u001b[1;33m:\u001b[0m \u001b[0mAny\u001b[0m\u001b[1;33m,\u001b[0m \u001b[1;33m**\u001b[0m\u001b[0mkw\u001b[0m\u001b[1;33m:\u001b[0m \u001b[0mAny\u001b[0m\u001b[1;33m)\u001b[0m \u001b[1;33m->\u001b[0m \u001b[0mAny\u001b[0m\u001b[1;33m:\u001b[0m\u001b[1;33m\u001b[0m\u001b[1;33m\u001b[0m\u001b[0m\n\u001b[0;32m    189\u001b[0m         \u001b[1;32mtry\u001b[0m\u001b[1;33m:\u001b[0m\u001b[1;33m\u001b[0m\u001b[1;33m\u001b[0m\u001b[0m\n\u001b[1;32m--> 190\u001b[1;33m             \u001b[1;32mreturn\u001b[0m \u001b[0mf\u001b[0m\u001b[1;33m(\u001b[0m\u001b[1;33m*\u001b[0m\u001b[0ma\u001b[0m\u001b[1;33m,\u001b[0m \u001b[1;33m**\u001b[0m\u001b[0mkw\u001b[0m\u001b[1;33m)\u001b[0m\u001b[1;33m\u001b[0m\u001b[1;33m\u001b[0m\u001b[0m\n\u001b[0m\u001b[0;32m    191\u001b[0m         \u001b[1;32mexcept\u001b[0m \u001b[0mPy4JJavaError\u001b[0m \u001b[1;32mas\u001b[0m \u001b[0me\u001b[0m\u001b[1;33m:\u001b[0m\u001b[1;33m\u001b[0m\u001b[1;33m\u001b[0m\u001b[0m\n\u001b[0;32m    192\u001b[0m             \u001b[0mconverted\u001b[0m \u001b[1;33m=\u001b[0m \u001b[0mconvert_exception\u001b[0m\u001b[1;33m(\u001b[0m\u001b[0me\u001b[0m\u001b[1;33m.\u001b[0m\u001b[0mjava_exception\u001b[0m\u001b[1;33m)\u001b[0m\u001b[1;33m\u001b[0m\u001b[1;33m\u001b[0m\u001b[0m\n",
      "\u001b[1;32m~\\anaconda3\\lib\\site-packages\\py4j\\protocol.py\u001b[0m in \u001b[0;36mget_return_value\u001b[1;34m(answer, gateway_client, target_id, name)\u001b[0m\n\u001b[0;32m    324\u001b[0m             \u001b[0mvalue\u001b[0m \u001b[1;33m=\u001b[0m \u001b[0mOUTPUT_CONVERTER\u001b[0m\u001b[1;33m[\u001b[0m\u001b[0mtype\u001b[0m\u001b[1;33m]\u001b[0m\u001b[1;33m(\u001b[0m\u001b[0manswer\u001b[0m\u001b[1;33m[\u001b[0m\u001b[1;36m2\u001b[0m\u001b[1;33m:\u001b[0m\u001b[1;33m]\u001b[0m\u001b[1;33m,\u001b[0m \u001b[0mgateway_client\u001b[0m\u001b[1;33m)\u001b[0m\u001b[1;33m\u001b[0m\u001b[1;33m\u001b[0m\u001b[0m\n\u001b[0;32m    325\u001b[0m             \u001b[1;32mif\u001b[0m \u001b[0manswer\u001b[0m\u001b[1;33m[\u001b[0m\u001b[1;36m1\u001b[0m\u001b[1;33m]\u001b[0m \u001b[1;33m==\u001b[0m \u001b[0mREFERENCE_TYPE\u001b[0m\u001b[1;33m:\u001b[0m\u001b[1;33m\u001b[0m\u001b[1;33m\u001b[0m\u001b[0m\n\u001b[1;32m--> 326\u001b[1;33m                 raise Py4JJavaError(\n\u001b[0m\u001b[0;32m    327\u001b[0m                     \u001b[1;34m\"An error occurred while calling {0}{1}{2}.\\n\"\u001b[0m\u001b[1;33m.\u001b[0m\u001b[1;33m\u001b[0m\u001b[1;33m\u001b[0m\u001b[0m\n\u001b[0;32m    328\u001b[0m                     format(target_id, \".\", name), value)\n",
      "\u001b[1;31mPy4JJavaError\u001b[0m: An error occurred while calling z:org.apache.spark.api.python.PythonRDD.collectAndServe.\n: org.apache.spark.SparkException: Job aborted due to stage failure: Task 0 in stage 60.0 failed 1 times, most recent failure: Lost task 0.0 in stage 60.0 (TID 209) (145.109.33.168 executor driver): org.apache.spark.SparkException: Python worker failed to connect back.\r\n\tat org.apache.spark.api.python.PythonWorkerFactory.createSimpleWorker(PythonWorkerFactory.scala:189)\r\n\tat org.apache.spark.api.python.PythonWorkerFactory.create(PythonWorkerFactory.scala:109)\r\n\tat org.apache.spark.SparkEnv.createPythonWorker(SparkEnv.scala:124)\r\n\tat org.apache.spark.api.python.BasePythonRunner.compute(PythonRunner.scala:157)\r\n\tat org.apache.spark.api.python.PythonRDD.compute(PythonRDD.scala:65)\r\n\tat org.apache.spark.rdd.RDD.computeOrReadCheckpoint(RDD.scala:365)\r\n\tat org.apache.spark.rdd.RDD.iterator(RDD.scala:329)\r\n\tat org.apache.spark.scheduler.ResultTask.runTask(ResultTask.scala:90)\r\n\tat org.apache.spark.scheduler.Task.run(Task.scala:136)\r\n\tat org.apache.spark.executor.Executor$TaskRunner.$anonfun$run$3(Executor.scala:548)\r\n\tat org.apache.spark.util.Utils$.tryWithSafeFinally(Utils.scala:1504)\r\n\tat org.apache.spark.executor.Executor$TaskRunner.run(Executor.scala:551)\r\n\tat java.base/java.util.concurrent.ThreadPoolExecutor.runWorker(ThreadPoolExecutor.java:1130)\r\n\tat java.base/java.util.concurrent.ThreadPoolExecutor$Worker.run(ThreadPoolExecutor.java:630)\r\n\tat java.base/java.lang.Thread.run(Thread.java:832)\r\nCaused by: java.net.SocketTimeoutException: Accept timed out\r\n\tat java.base/sun.nio.ch.NioSocketImpl.timedAccept(NioSocketImpl.java:708)\r\n\tat java.base/sun.nio.ch.NioSocketImpl.accept(NioSocketImpl.java:752)\r\n\tat java.base/java.net.ServerSocket.implAccept(ServerSocket.java:684)\r\n\tat java.base/java.net.ServerSocket.platformImplAccept(ServerSocket.java:650)\r\n\tat java.base/java.net.ServerSocket.implAccept(ServerSocket.java:626)\r\n\tat java.base/java.net.ServerSocket.implAccept(ServerSocket.java:583)\r\n\tat java.base/java.net.ServerSocket.accept(ServerSocket.java:540)\r\n\tat org.apache.spark.api.python.PythonWorkerFactory.createSimpleWorker(PythonWorkerFactory.scala:176)\r\n\t... 14 more\r\n\nDriver stacktrace:\r\n\tat org.apache.spark.scheduler.DAGScheduler.failJobAndIndependentStages(DAGScheduler.scala:2672)\r\n\tat org.apache.spark.scheduler.DAGScheduler.$anonfun$abortStage$2(DAGScheduler.scala:2608)\r\n\tat org.apache.spark.scheduler.DAGScheduler.$anonfun$abortStage$2$adapted(DAGScheduler.scala:2607)\r\n\tat scala.collection.mutable.ResizableArray.foreach(ResizableArray.scala:62)\r\n\tat scala.collection.mutable.ResizableArray.foreach$(ResizableArray.scala:55)\r\n\tat scala.collection.mutable.ArrayBuffer.foreach(ArrayBuffer.scala:49)\r\n\tat org.apache.spark.scheduler.DAGScheduler.abortStage(DAGScheduler.scala:2607)\r\n\tat org.apache.spark.scheduler.DAGScheduler.$anonfun$handleTaskSetFailed$1(DAGScheduler.scala:1182)\r\n\tat org.apache.spark.scheduler.DAGScheduler.$anonfun$handleTaskSetFailed$1$adapted(DAGScheduler.scala:1182)\r\n\tat scala.Option.foreach(Option.scala:407)\r\n\tat org.apache.spark.scheduler.DAGScheduler.handleTaskSetFailed(DAGScheduler.scala:1182)\r\n\tat org.apache.spark.scheduler.DAGSchedulerEventProcessLoop.doOnReceive(DAGScheduler.scala:2860)\r\n\tat org.apache.spark.scheduler.DAGSchedulerEventProcessLoop.onReceive(DAGScheduler.scala:2802)\r\n\tat org.apache.spark.scheduler.DAGSchedulerEventProcessLoop.onReceive(DAGScheduler.scala:2791)\r\n\tat org.apache.spark.util.EventLoop$$anon$1.run(EventLoop.scala:49)\r\n\tat org.apache.spark.scheduler.DAGScheduler.runJob(DAGScheduler.scala:952)\r\n\tat org.apache.spark.SparkContext.runJob(SparkContext.scala:2238)\r\n\tat org.apache.spark.SparkContext.runJob(SparkContext.scala:2259)\r\n\tat org.apache.spark.SparkContext.runJob(SparkContext.scala:2278)\r\n\tat org.apache.spark.SparkContext.runJob(SparkContext.scala:2303)\r\n\tat org.apache.spark.rdd.RDD.$anonfun$collect$1(RDD.scala:1021)\r\n\tat org.apache.spark.rdd.RDDOperationScope$.withScope(RDDOperationScope.scala:151)\r\n\tat org.apache.spark.rdd.RDDOperationScope$.withScope(RDDOperationScope.scala:112)\r\n\tat org.apache.spark.rdd.RDD.withScope(RDD.scala:406)\r\n\tat org.apache.spark.rdd.RDD.collect(RDD.scala:1020)\r\n\tat org.apache.spark.api.python.PythonRDD$.collectAndServe(PythonRDD.scala:180)\r\n\tat org.apache.spark.api.python.PythonRDD.collectAndServe(PythonRDD.scala)\r\n\tat java.base/jdk.internal.reflect.NativeMethodAccessorImpl.invoke0(Native Method)\r\n\tat java.base/jdk.internal.reflect.NativeMethodAccessorImpl.invoke(NativeMethodAccessorImpl.java:64)\r\n\tat java.base/jdk.internal.reflect.DelegatingMethodAccessorImpl.invoke(DelegatingMethodAccessorImpl.java:43)\r\n\tat java.base/java.lang.reflect.Method.invoke(Method.java:564)\r\n\tat py4j.reflection.MethodInvoker.invoke(MethodInvoker.java:244)\r\n\tat py4j.reflection.ReflectionEngine.invoke(ReflectionEngine.java:357)\r\n\tat py4j.Gateway.invoke(Gateway.java:282)\r\n\tat py4j.commands.AbstractCommand.invokeMethod(AbstractCommand.java:132)\r\n\tat py4j.commands.CallCommand.execute(CallCommand.java:79)\r\n\tat py4j.ClientServerConnection.waitForCommands(ClientServerConnection.java:182)\r\n\tat py4j.ClientServerConnection.run(ClientServerConnection.java:106)\r\n\tat java.base/java.lang.Thread.run(Thread.java:832)\r\nCaused by: org.apache.spark.SparkException: Python worker failed to connect back.\r\n\tat org.apache.spark.api.python.PythonWorkerFactory.createSimpleWorker(PythonWorkerFactory.scala:189)\r\n\tat org.apache.spark.api.python.PythonWorkerFactory.create(PythonWorkerFactory.scala:109)\r\n\tat org.apache.spark.SparkEnv.createPythonWorker(SparkEnv.scala:124)\r\n\tat org.apache.spark.api.python.BasePythonRunner.compute(PythonRunner.scala:157)\r\n\tat org.apache.spark.api.python.PythonRDD.compute(PythonRDD.scala:65)\r\n\tat org.apache.spark.rdd.RDD.computeOrReadCheckpoint(RDD.scala:365)\r\n\tat org.apache.spark.rdd.RDD.iterator(RDD.scala:329)\r\n\tat org.apache.spark.scheduler.ResultTask.runTask(ResultTask.scala:90)\r\n\tat org.apache.spark.scheduler.Task.run(Task.scala:136)\r\n\tat org.apache.spark.executor.Executor$TaskRunner.$anonfun$run$3(Executor.scala:548)\r\n\tat org.apache.spark.util.Utils$.tryWithSafeFinally(Utils.scala:1504)\r\n\tat org.apache.spark.executor.Executor$TaskRunner.run(Executor.scala:551)\r\n\tat java.base/java.util.concurrent.ThreadPoolExecutor.runWorker(ThreadPoolExecutor.java:1130)\r\n\tat java.base/java.util.concurrent.ThreadPoolExecutor$Worker.run(ThreadPoolExecutor.java:630)\r\n\t... 1 more\r\nCaused by: java.net.SocketTimeoutException: Accept timed out\r\n\tat java.base/sun.nio.ch.NioSocketImpl.timedAccept(NioSocketImpl.java:708)\r\n\tat java.base/sun.nio.ch.NioSocketImpl.accept(NioSocketImpl.java:752)\r\n\tat java.base/java.net.ServerSocket.implAccept(ServerSocket.java:684)\r\n\tat java.base/java.net.ServerSocket.platformImplAccept(ServerSocket.java:650)\r\n\tat java.base/java.net.ServerSocket.implAccept(ServerSocket.java:626)\r\n\tat java.base/java.net.ServerSocket.implAccept(ServerSocket.java:583)\r\n\tat java.base/java.net.ServerSocket.accept(ServerSocket.java:540)\r\n\tat org.apache.spark.api.python.PythonWorkerFactory.createSimpleWorker(PythonWorkerFactory.scala:176)\r\n\t... 14 more\r\n"
     ]
    }
   ],
   "source": [
    "training_set = replace_null_with_winsorized_mean(training_set, \"numVotes\")\n",
    "training_set.show()"
   ]
  },
  {
   "cell_type": "code",
   "execution_count": null,
   "metadata": {},
   "outputs": [],
   "source": [
    "#Count the number of missing values in numVotes column\n",
    "\n",
    "from pyspark.sql.functions import col, sum\n",
    "missing_count = training_set.select(sum(col(\"numVotes\").isNull().cast(\"int\"))).collect()[0][0]\n",
    "print(missing_count)"
   ]
  },
  {
   "cell_type": "code",
   "execution_count": null,
   "metadata": {},
   "outputs": [],
   "source": [
    "def drop_column_inplace(df, column_to_drop):\n",
    "    \"\"\"\n",
    "    This function takes a DataFrame and a column name to drop, and modifies \n",
    "    the DataFrame in place by dropping the column.\n",
    "    \"\"\"\n",
    "    # Drop the column if it exists in the DataFrame\n",
    "    if column_to_drop in df.columns:\n",
    "        df = df.drop(column_to_drop)\n",
    "    \n",
    "    return df"
   ]
  },
  {
   "cell_type": "code",
   "execution_count": null,
   "metadata": {},
   "outputs": [],
   "source": [
    "training_set = drop_column_inplace(training_set, \"endYear\")\n",
    "training_set.show()"
   ]
  },
  {
   "cell_type": "code",
   "execution_count": null,
   "metadata": {},
   "outputs": [],
   "source": [
    "genres = spark.read.option(\"delimiter\", \"\\t\").option(\"header\", \"true\").csv(\"data.tsv\")\n",
    "genres.show()"
   ]
  },
  {
   "cell_type": "code",
   "execution_count": null,
   "metadata": {},
   "outputs": [],
   "source": [
    "result_df = training_set.join(genres.select(\"tconst\", \"genres\"), \"tconst\", \"left_outer\")\n",
    "result_df = result_df.drop('endYear')\n",
    "result_df = result_df.orderBy('tconst')\n",
    "result_df.show()"
   ]
  },
  {
   "cell_type": "code",
   "execution_count": null,
   "metadata": {},
   "outputs": [],
   "source": []
  }
 ],
 "metadata": {
  "kernelspec": {
   "display_name": "Python 3",
   "language": "python",
   "name": "python3"
  },
  "language_info": {
   "codemirror_mode": {
    "name": "ipython",
    "version": 3
   },
   "file_extension": ".py",
   "mimetype": "text/x-python",
   "name": "python",
   "nbconvert_exporter": "python",
   "pygments_lexer": "ipython3",
   "version": "3.8.5"
  }
 },
 "nbformat": 4,
 "nbformat_minor": 4
}
